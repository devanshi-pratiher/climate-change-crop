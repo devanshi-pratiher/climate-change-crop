{
  "nbformat": 4,
  "nbformat_minor": 0,
  "metadata": {
    "colab": {
      "provenance": []
    },
    "kernelspec": {
      "name": "python3",
      "display_name": "Python 3"
    },
    "language_info": {
      "name": "python"
    }
  },
  "cells": [
    {
      "cell_type": "markdown",
      "source": [
        "# Crop Production Prediction Based on Factors, Using Regression Analysis\n",
        "For this file we have amulgamated 10 datasets for predicting the production of wheat, rice, soybean and maize. We have incorporate pesticide, Co2, Change in temperature, fertilizer (N, P and K which are required for the growth of the crop) and arable land datasets. We have 2 more dataset one for checking the country codes and other for imputing the missing change in temperature values."
      ],
      "metadata": {
        "id": "HWXYUc5dSR96"
      }
    },
    {
      "cell_type": "code",
      "source": [
        "# !pip install pandas-profiling\n",
        "\n",
        "import numpy as np\n",
        "import pandas as pd\n",
        "from pandas.plotting import autocorrelation_plot\n",
        "import seaborn as sns\n",
        "from matplotlib import pyplot as plt\n",
        "from statsmodels.tsa.api import ExponentialSmoothing, SimpleExpSmoothing, Holt\n",
        "from sklearn import linear_model\n",
        "from sklearn.tree import DecisionTreeRegressor\n",
        "from sklearn.svm import SVR\n",
        "from sklearn.ensemble import RandomForestRegressor\n",
        "from sklearn.metrics import r2_score\n",
        "from sklearn.model_selection import train_test_split\n",
        "from sklearn.preprocessing import StandardScaler\n",
        "import random\n",
        "import time\n",
        "import warnings\n",
        "warnings.filterwarnings(\"ignore\")"
      ],
      "metadata": {
        "id": "8inWDTCh-lfw"
      },
      "execution_count": null,
      "outputs": []
    },
    {
      "cell_type": "code",
      "source": [
        "# mount google drive\n",
        "import pandas as pd\n",
        "import matplotlib.pyplot as plt\n",
        "import numpy as np\n",
        "from google.colab import drive\n",
        "drive.mount('/content/drive')\n",
        "\n",
        "import os\n",
        "import pandas as pd"
      ],
      "metadata": {
        "colab": {
          "base_uri": "https://localhost:8080/"
        },
        "id": "8mv53rNv-ljJ",
        "outputId": "4e320e28-c1e4-4286-d5a9-3f9a59f56aa3"
      },
      "execution_count": null,
      "outputs": [
        {
          "output_type": "stream",
          "name": "stdout",
          "text": [
            "Drive already mounted at /content/drive; to attempt to forcibly remount, call drive.mount(\"/content/drive\", force_remount=True).\n"
          ]
        }
      ]
    },
    {
      "cell_type": "code",
      "source": [
        "from statsmodels.tsa.arima.model import ARIMA\n",
        "from sklearn.metrics import mean_squared_error\n",
        "profdrive=\"/content/drive/MyDrive/ML-Summer-2023/The Martians/Data\"\n",
        "file_name1=\"Disaster_data/temperature_data.csv\"\n",
        "file_name2=\"Disaster_data/Climate-related_Disasters_Frequency.csv\"\n",
        "file_name3=\"FT2021_fossil_CO2_booklet_2022.xlsx\"\n",
        "file_name4=\"country_codes.csv\"\n",
        "file_name5=\"Disaster_data/pesticides.csv\"\n",
        "file_name6=\"Disaster_data/fertilizer.csv\"\n",
        "file_name7=\"Disaster_data/arable_land.csv\"\n",
        "file_name8=\"wheat-production.csv\"\n",
        "file_name9=\"rice-production.csv\"\n",
        "file_name10=\"soybean-production.csv\"\n",
        "file_name11=\"maize-production.csv\"\n",
        "file_name12=\"missing_country_temp.csv\"\n",
        "\n",
        "import os\n",
        "os.chdir(profdrive)"
      ],
      "metadata": {
        "id": "dyrnXP3W-lmF"
      },
      "execution_count": null,
      "outputs": []
    },
    {
      "cell_type": "code",
      "source": [
        "#CO2 data\n",
        "data_co2= pd.read_excel(file_name3,sheet_name=\"fossil_CO2_totals_by_country\")\n",
        "# temperature data\n",
        "data_temp= pd.read_csv(file_name1)##, encoding='cp1252'\n",
        "# Disaster data\n",
        "data_disaster = pd.read_csv(file_name2)\n",
        "#Country code data\n",
        "data_country_code=pd.read_csv(file_name4)\n",
        "#Peticide data\n",
        "data_pesticide=pd.read_csv(file_name5)\n",
        "#Fertilizer data (Nitrogen, Potassium and potash)\n",
        "data_fertilizer=pd.read_csv(file_name6)\n",
        "#arable land data\n",
        "data_arable=pd.read_csv(file_name7)\n",
        "#Wheat data\n",
        "data_wheat=pd.read_csv(file_name8)\n",
        "#Rice data\n",
        "data_rice=pd.read_csv(file_name9)\n",
        "#Soybean data\n",
        "data_soybean=pd.read_csv(file_name10)\n",
        "#Maize data\n",
        "data_maize=pd.read_csv(file_name11)\n",
        "#Missing temperature data\n",
        "missing_temp=pd.read_csv(file_name12)"
      ],
      "metadata": {
        "id": "D65aw0W6-lo6"
      },
      "execution_count": null,
      "outputs": []
    },
    {
      "cell_type": "code",
      "source": [
        "def removeDataWithoutCode(df,code):\n",
        "\n",
        "  df_ = df[df[code].notna()]\n",
        "  df_=df_[~(df_[code]=='')]\n",
        "\n",
        "  df_ = df_[df_[code].isin(data_country_code['Code'])]\n",
        "  return df_"
      ],
      "metadata": {
        "id": "A2lRacs2-lrB"
      },
      "execution_count": null,
      "outputs": []
    },
    {
      "cell_type": "code",
      "source": [
        "def trimDataFrame(df,start,end):\n",
        "  df_trimmed= (\n",
        "      df\n",
        "      .query(f'Year >= {start} and Year <={end}')\n",
        "  )\n",
        "\n",
        "  return df_trimmed"
      ],
      "metadata": {
        "id": "0ODH2Ivq-luE"
      },
      "execution_count": null,
      "outputs": []
    },
    {
      "cell_type": "markdown",
      "source": [
        "# Data Cleaning and Data Preprocessing"
      ],
      "metadata": {
        "id": "Sw2jT-EgTmWW"
      }
    },
    {
      "cell_type": "code",
      "source": [
        "data_co2_country=removeDataWithoutCode(data_co2,\"EDGAR Country Code\")"
      ],
      "metadata": {
        "id": "KFZreBrw-lwK"
      },
      "execution_count": null,
      "outputs": []
    },
    {
      "cell_type": "code",
      "source": [
        "data_co2_country= data_co2_country.rename(columns={'EDGAR Country Code':'Code'})\n",
        "\n",
        "data_co2_country.drop('Substance', inplace=True, axis =1)\n",
        "data_co2_country.drop('Country', inplace=True, axis =1)"
      ],
      "metadata": {
        "id": "RFmfoe_t_bpR"
      },
      "execution_count": null,
      "outputs": []
    },
    {
      "cell_type": "code",
      "source": [
        "df_co2_ = pd.melt(data_co2_country, id_vars=['Code'] , var_name='Year', value_name ='CO2')"
      ],
      "metadata": {
        "id": "TV9O5Qdh_emN"
      },
      "execution_count": null,
      "outputs": []
    },
    {
      "cell_type": "code",
      "source": [
        "df_co2_ ['Year']=df_co2_ ['Year'].astype('int')\n",
        "data_country_code.head()"
      ],
      "metadata": {
        "colab": {
          "base_uri": "https://localhost:8080/",
          "height": 206
        },
        "id": "NqIfdjTw_er8",
        "outputId": "8213cc32-bc1f-4993-fc9c-37b3389329c6"
      },
      "execution_count": null,
      "outputs": [
        {
          "output_type": "execute_result",
          "data": {
            "text/plain": [
              "  Code         Country\n",
              "0  AFG     Afghanistan\n",
              "1  ALA   Aland Islands\n",
              "2  ALB         Albania\n",
              "3  DZA         Algeria\n",
              "4  ASM  American Samoa"
            ],
            "text/html": [
              "\n",
              "\n",
              "  <div id=\"df-3cc1688c-e8a0-4257-be97-3fa715153ea4\">\n",
              "    <div class=\"colab-df-container\">\n",
              "      <div>\n",
              "<style scoped>\n",
              "    .dataframe tbody tr th:only-of-type {\n",
              "        vertical-align: middle;\n",
              "    }\n",
              "\n",
              "    .dataframe tbody tr th {\n",
              "        vertical-align: top;\n",
              "    }\n",
              "\n",
              "    .dataframe thead th {\n",
              "        text-align: right;\n",
              "    }\n",
              "</style>\n",
              "<table border=\"1\" class=\"dataframe\">\n",
              "  <thead>\n",
              "    <tr style=\"text-align: right;\">\n",
              "      <th></th>\n",
              "      <th>Code</th>\n",
              "      <th>Country</th>\n",
              "    </tr>\n",
              "  </thead>\n",
              "  <tbody>\n",
              "    <tr>\n",
              "      <th>0</th>\n",
              "      <td>AFG</td>\n",
              "      <td>Afghanistan</td>\n",
              "    </tr>\n",
              "    <tr>\n",
              "      <th>1</th>\n",
              "      <td>ALA</td>\n",
              "      <td>Aland Islands</td>\n",
              "    </tr>\n",
              "    <tr>\n",
              "      <th>2</th>\n",
              "      <td>ALB</td>\n",
              "      <td>Albania</td>\n",
              "    </tr>\n",
              "    <tr>\n",
              "      <th>3</th>\n",
              "      <td>DZA</td>\n",
              "      <td>Algeria</td>\n",
              "    </tr>\n",
              "    <tr>\n",
              "      <th>4</th>\n",
              "      <td>ASM</td>\n",
              "      <td>American Samoa</td>\n",
              "    </tr>\n",
              "  </tbody>\n",
              "</table>\n",
              "</div>\n",
              "      <button class=\"colab-df-convert\" onclick=\"convertToInteractive('df-3cc1688c-e8a0-4257-be97-3fa715153ea4')\"\n",
              "              title=\"Convert this dataframe to an interactive table.\"\n",
              "              style=\"display:none;\">\n",
              "\n",
              "  <svg xmlns=\"http://www.w3.org/2000/svg\" height=\"24px\"viewBox=\"0 0 24 24\"\n",
              "       width=\"24px\">\n",
              "    <path d=\"M0 0h24v24H0V0z\" fill=\"none\"/>\n",
              "    <path d=\"M18.56 5.44l.94 2.06.94-2.06 2.06-.94-2.06-.94-.94-2.06-.94 2.06-2.06.94zm-11 1L8.5 8.5l.94-2.06 2.06-.94-2.06-.94L8.5 2.5l-.94 2.06-2.06.94zm10 10l.94 2.06.94-2.06 2.06-.94-2.06-.94-.94-2.06-.94 2.06-2.06.94z\"/><path d=\"M17.41 7.96l-1.37-1.37c-.4-.4-.92-.59-1.43-.59-.52 0-1.04.2-1.43.59L10.3 9.45l-7.72 7.72c-.78.78-.78 2.05 0 2.83L4 21.41c.39.39.9.59 1.41.59.51 0 1.02-.2 1.41-.59l7.78-7.78 2.81-2.81c.8-.78.8-2.07 0-2.86zM5.41 20L4 18.59l7.72-7.72 1.47 1.35L5.41 20z\"/>\n",
              "  </svg>\n",
              "      </button>\n",
              "\n",
              "\n",
              "\n",
              "    <div id=\"df-ecf3f3a6-0ecb-4a95-ba57-7f12ce85b4a1\">\n",
              "      <button class=\"colab-df-quickchart\" onclick=\"quickchart('df-ecf3f3a6-0ecb-4a95-ba57-7f12ce85b4a1')\"\n",
              "              title=\"Suggest charts.\"\n",
              "              style=\"display:none;\">\n",
              "\n",
              "<svg xmlns=\"http://www.w3.org/2000/svg\" height=\"24px\"viewBox=\"0 0 24 24\"\n",
              "     width=\"24px\">\n",
              "    <g>\n",
              "        <path d=\"M19 3H5c-1.1 0-2 .9-2 2v14c0 1.1.9 2 2 2h14c1.1 0 2-.9 2-2V5c0-1.1-.9-2-2-2zM9 17H7v-7h2v7zm4 0h-2V7h2v10zm4 0h-2v-4h2v4z\"/>\n",
              "    </g>\n",
              "</svg>\n",
              "      </button>\n",
              "    </div>\n",
              "\n",
              "<style>\n",
              "  .colab-df-quickchart {\n",
              "    background-color: #E8F0FE;\n",
              "    border: none;\n",
              "    border-radius: 50%;\n",
              "    cursor: pointer;\n",
              "    display: none;\n",
              "    fill: #1967D2;\n",
              "    height: 32px;\n",
              "    padding: 0 0 0 0;\n",
              "    width: 32px;\n",
              "  }\n",
              "\n",
              "  .colab-df-quickchart:hover {\n",
              "    background-color: #E2EBFA;\n",
              "    box-shadow: 0px 1px 2px rgba(60, 64, 67, 0.3), 0px 1px 3px 1px rgba(60, 64, 67, 0.15);\n",
              "    fill: #174EA6;\n",
              "  }\n",
              "\n",
              "  [theme=dark] .colab-df-quickchart {\n",
              "    background-color: #3B4455;\n",
              "    fill: #D2E3FC;\n",
              "  }\n",
              "\n",
              "  [theme=dark] .colab-df-quickchart:hover {\n",
              "    background-color: #434B5C;\n",
              "    box-shadow: 0px 1px 3px 1px rgba(0, 0, 0, 0.15);\n",
              "    filter: drop-shadow(0px 1px 2px rgba(0, 0, 0, 0.3));\n",
              "    fill: #FFFFFF;\n",
              "  }\n",
              "</style>\n",
              "\n",
              "    <script>\n",
              "      async function quickchart(key) {\n",
              "        const containerElement = document.querySelector('#' + key);\n",
              "        const charts = await google.colab.kernel.invokeFunction(\n",
              "            'suggestCharts', [key], {});\n",
              "      }\n",
              "    </script>\n",
              "\n",
              "      <script>\n",
              "\n",
              "function displayQuickchartButton(domScope) {\n",
              "  let quickchartButtonEl =\n",
              "    domScope.querySelector('#df-ecf3f3a6-0ecb-4a95-ba57-7f12ce85b4a1 button.colab-df-quickchart');\n",
              "  quickchartButtonEl.style.display =\n",
              "    google.colab.kernel.accessAllowed ? 'block' : 'none';\n",
              "}\n",
              "\n",
              "        displayQuickchartButton(document);\n",
              "      </script>\n",
              "      <style>\n",
              "    .colab-df-container {\n",
              "      display:flex;\n",
              "      flex-wrap:wrap;\n",
              "      gap: 12px;\n",
              "    }\n",
              "\n",
              "    .colab-df-convert {\n",
              "      background-color: #E8F0FE;\n",
              "      border: none;\n",
              "      border-radius: 50%;\n",
              "      cursor: pointer;\n",
              "      display: none;\n",
              "      fill: #1967D2;\n",
              "      height: 32px;\n",
              "      padding: 0 0 0 0;\n",
              "      width: 32px;\n",
              "    }\n",
              "\n",
              "    .colab-df-convert:hover {\n",
              "      background-color: #E2EBFA;\n",
              "      box-shadow: 0px 1px 2px rgba(60, 64, 67, 0.3), 0px 1px 3px 1px rgba(60, 64, 67, 0.15);\n",
              "      fill: #174EA6;\n",
              "    }\n",
              "\n",
              "    [theme=dark] .colab-df-convert {\n",
              "      background-color: #3B4455;\n",
              "      fill: #D2E3FC;\n",
              "    }\n",
              "\n",
              "    [theme=dark] .colab-df-convert:hover {\n",
              "      background-color: #434B5C;\n",
              "      box-shadow: 0px 1px 3px 1px rgba(0, 0, 0, 0.15);\n",
              "      filter: drop-shadow(0px 1px 2px rgba(0, 0, 0, 0.3));\n",
              "      fill: #FFFFFF;\n",
              "    }\n",
              "  </style>\n",
              "\n",
              "      <script>\n",
              "        const buttonEl =\n",
              "          document.querySelector('#df-3cc1688c-e8a0-4257-be97-3fa715153ea4 button.colab-df-convert');\n",
              "        buttonEl.style.display =\n",
              "          google.colab.kernel.accessAllowed ? 'block' : 'none';\n",
              "\n",
              "        async function convertToInteractive(key) {\n",
              "          const element = document.querySelector('#df-3cc1688c-e8a0-4257-be97-3fa715153ea4');\n",
              "          const dataTable =\n",
              "            await google.colab.kernel.invokeFunction('convertToInteractive',\n",
              "                                                     [key], {});\n",
              "          if (!dataTable) return;\n",
              "\n",
              "          const docLinkHtml = 'Like what you see? Visit the ' +\n",
              "            '<a target=\"_blank\" href=https://colab.research.google.com/notebooks/data_table.ipynb>data table notebook</a>'\n",
              "            + ' to learn more about interactive tables.';\n",
              "          element.innerHTML = '';\n",
              "          dataTable['output_type'] = 'display_data';\n",
              "          await google.colab.output.renderOutput(dataTable, element);\n",
              "          const docLink = document.createElement('div');\n",
              "          docLink.innerHTML = docLinkHtml;\n",
              "          element.appendChild(docLink);\n",
              "        }\n",
              "      </script>\n",
              "    </div>\n",
              "  </div>\n"
            ]
          },
          "metadata": {},
          "execution_count": 10
        }
      ]
    },
    {
      "cell_type": "code",
      "source": [
        "df_temp_country= removeDataWithoutCode(data_temp,\"Area Code (ISO3)\")\n",
        "df_temp_country=df_temp_country.rename(columns={'Area Code (ISO3)':'Code'})\n",
        "df_temp_country=df_temp_country.rename(columns={'Value':'temp_change'})\n",
        "df_temp_country.drop(['Domain Code', 'Domain','Area',\t'Element Code',\t'Element', 'Months Code', 'Months',\t'Year Code', 'Unit', 'Flag',\t'Flag Description'], inplace=True, axis =1)"
      ],
      "metadata": {
        "id": "CSau_1TQ_evy"
      },
      "execution_count": null,
      "outputs": []
    },
    {
      "cell_type": "code",
      "source": [
        "disaster=list(data_disaster[\"Indicator\"].unique())\n",
        "result =list( map(lambda x: x.split(\":\")[-1].strip(), disaster))\n",
        "data_disaster['Indicator'] = data_disaster['Indicator'].replace(disaster,result)\n",
        "data_disaster=data_disaster.rename(columns={'ISO3':\"Code\",'F1980':\"1980\", 'F1981':\"1981\",\n",
        "       'F1982':\"1982\", 'F1983':\"1983\", 'F1984':\"1984\", 'F1985':\"1985\", 'F1986':\"1986\", 'F1987':\"1987\", 'F1988':\"1988\", 'F1989':\"1989\",\n",
        "       'F1990':\"1990\", 'F1991':\"1991\", 'F1992':\"1992\", 'F1993':\"1993\", 'F1994':\"1994\", 'F1995':\"1995\", 'F1996':\"1996\", 'F1997':\"1997\",\n",
        "       'F1998':\"1998\", 'F1999':\"1999\", 'F2000':\"2000\", 'F2001':\"2001\", 'F2002':\"2002\", 'F2003':\"2003\", 'F2004':\"2004\", 'F2005':\"2005\",\n",
        "       'F2006': \"2006\", 'F2007':\"2007\", 'F2008':\"2008\", 'F2009':\"2009\", 'F2010':\"2010\", 'F2011':\"2011\", 'F2012':\"2012\", 'F2013':\"2013\",\n",
        "       'F2014':\"2014\", 'F2015':\"2015\", 'F2016':\"2016\", 'F2017':\"2017\", 'F2018':\"2018\", 'F2019':\"2019\", 'F2020':\"2020\", 'F2021':\"2021\",\n",
        "       'F2022':\"2022\"})\n",
        "data_disaster.fillna(0,inplace=True)\n",
        "data_disaster=data_disaster[['Country','Code', 'Indicator', '1980', '1981', '1982',\n",
        "       '1983', '1984', '1985', '1986', '1987', '1988', '1989', '1990', '1991',\n",
        "       '1992', '1993', '1994', '1995', '1996', '1997', '1998', '1999', '2000',\n",
        "       '2001', '2002', '2003', '2004', '2005', '2006', '2007', '2008', '2009',\n",
        "       '2010', '2011', '2012', '2013', '2014', '2015', '2016', '2017', '2018',\n",
        "       '2019', '2020', '2021', '2022']]\n",
        "\n",
        "data_disaster_clean=data_disaster[data_disaster[\"Indicator\"]!=\"TOTAL\"]\n",
        "\n",
        "data_disaster_country=removeDataWithoutCode(data_disaster_clean,\"Code\")\n",
        "\n",
        "data_disaster_country.drop([\"Country\"], axis=1, inplace=True)\n",
        "\n",
        "data_disaster_country.head()"
      ],
      "metadata": {
        "colab": {
          "base_uri": "https://localhost:8080/",
          "height": 236
        },
        "id": "wd8F5Gc6A9IS",
        "outputId": "d2447286-5f8a-4cca-a888-c21e5d1a4bb7"
      },
      "execution_count": null,
      "outputs": [
        {
          "output_type": "execute_result",
          "data": {
            "text/plain": [
              "  Code            Indicator  1980  1981  1982  1983  1984  1985  1986  1987  \\\n",
              "0  AFG              Drought   0.0   0.0   0.0   0.0   0.0   0.0   0.0   0.0   \n",
              "1  AFG  Extreme temperature   0.0   0.0   0.0   0.0   0.0   0.0   0.0   0.0   \n",
              "2  AFG                Flood   1.0   0.0   0.0   0.0   0.0   0.0   0.0   0.0   \n",
              "3  AFG            Landslide   0.0   0.0   0.0   0.0   0.0   0.0   0.0   1.0   \n",
              "4  AFG                Storm   0.0   0.0   0.0   0.0   0.0   0.0   0.0   0.0   \n",
              "\n",
              "   ...  2013  2014  2015  2016  2017  2018  2019  2020  2021  2022  \n",
              "0  ...   0.0   0.0   0.0   0.0   0.0   1.0   0.0   0.0   1.0   0.0  \n",
              "1  ...   0.0   0.0   0.0   0.0   0.0   0.0   0.0   0.0   0.0   0.0  \n",
              "2  ...   4.0   2.0   1.0   4.0   1.0   3.0   6.0   5.0   2.0   5.0  \n",
              "3  ...   1.0   0.0   4.0   0.0   2.0   1.0   1.0   1.0   1.0   1.0  \n",
              "4  ...   0.0   1.0   0.0   0.0   2.0   0.0   0.0   1.0   0.0   0.0  \n",
              "\n",
              "[5 rows x 45 columns]"
            ],
            "text/html": [
              "\n",
              "\n",
              "  <div id=\"df-b94c5f2a-8950-477e-adf1-3e93f8f418e2\">\n",
              "    <div class=\"colab-df-container\">\n",
              "      <div>\n",
              "<style scoped>\n",
              "    .dataframe tbody tr th:only-of-type {\n",
              "        vertical-align: middle;\n",
              "    }\n",
              "\n",
              "    .dataframe tbody tr th {\n",
              "        vertical-align: top;\n",
              "    }\n",
              "\n",
              "    .dataframe thead th {\n",
              "        text-align: right;\n",
              "    }\n",
              "</style>\n",
              "<table border=\"1\" class=\"dataframe\">\n",
              "  <thead>\n",
              "    <tr style=\"text-align: right;\">\n",
              "      <th></th>\n",
              "      <th>Code</th>\n",
              "      <th>Indicator</th>\n",
              "      <th>1980</th>\n",
              "      <th>1981</th>\n",
              "      <th>1982</th>\n",
              "      <th>1983</th>\n",
              "      <th>1984</th>\n",
              "      <th>1985</th>\n",
              "      <th>1986</th>\n",
              "      <th>1987</th>\n",
              "      <th>...</th>\n",
              "      <th>2013</th>\n",
              "      <th>2014</th>\n",
              "      <th>2015</th>\n",
              "      <th>2016</th>\n",
              "      <th>2017</th>\n",
              "      <th>2018</th>\n",
              "      <th>2019</th>\n",
              "      <th>2020</th>\n",
              "      <th>2021</th>\n",
              "      <th>2022</th>\n",
              "    </tr>\n",
              "  </thead>\n",
              "  <tbody>\n",
              "    <tr>\n",
              "      <th>0</th>\n",
              "      <td>AFG</td>\n",
              "      <td>Drought</td>\n",
              "      <td>0.0</td>\n",
              "      <td>0.0</td>\n",
              "      <td>0.0</td>\n",
              "      <td>0.0</td>\n",
              "      <td>0.0</td>\n",
              "      <td>0.0</td>\n",
              "      <td>0.0</td>\n",
              "      <td>0.0</td>\n",
              "      <td>...</td>\n",
              "      <td>0.0</td>\n",
              "      <td>0.0</td>\n",
              "      <td>0.0</td>\n",
              "      <td>0.0</td>\n",
              "      <td>0.0</td>\n",
              "      <td>1.0</td>\n",
              "      <td>0.0</td>\n",
              "      <td>0.0</td>\n",
              "      <td>1.0</td>\n",
              "      <td>0.0</td>\n",
              "    </tr>\n",
              "    <tr>\n",
              "      <th>1</th>\n",
              "      <td>AFG</td>\n",
              "      <td>Extreme temperature</td>\n",
              "      <td>0.0</td>\n",
              "      <td>0.0</td>\n",
              "      <td>0.0</td>\n",
              "      <td>0.0</td>\n",
              "      <td>0.0</td>\n",
              "      <td>0.0</td>\n",
              "      <td>0.0</td>\n",
              "      <td>0.0</td>\n",
              "      <td>...</td>\n",
              "      <td>0.0</td>\n",
              "      <td>0.0</td>\n",
              "      <td>0.0</td>\n",
              "      <td>0.0</td>\n",
              "      <td>0.0</td>\n",
              "      <td>0.0</td>\n",
              "      <td>0.0</td>\n",
              "      <td>0.0</td>\n",
              "      <td>0.0</td>\n",
              "      <td>0.0</td>\n",
              "    </tr>\n",
              "    <tr>\n",
              "      <th>2</th>\n",
              "      <td>AFG</td>\n",
              "      <td>Flood</td>\n",
              "      <td>1.0</td>\n",
              "      <td>0.0</td>\n",
              "      <td>0.0</td>\n",
              "      <td>0.0</td>\n",
              "      <td>0.0</td>\n",
              "      <td>0.0</td>\n",
              "      <td>0.0</td>\n",
              "      <td>0.0</td>\n",
              "      <td>...</td>\n",
              "      <td>4.0</td>\n",
              "      <td>2.0</td>\n",
              "      <td>1.0</td>\n",
              "      <td>4.0</td>\n",
              "      <td>1.0</td>\n",
              "      <td>3.0</td>\n",
              "      <td>6.0</td>\n",
              "      <td>5.0</td>\n",
              "      <td>2.0</td>\n",
              "      <td>5.0</td>\n",
              "    </tr>\n",
              "    <tr>\n",
              "      <th>3</th>\n",
              "      <td>AFG</td>\n",
              "      <td>Landslide</td>\n",
              "      <td>0.0</td>\n",
              "      <td>0.0</td>\n",
              "      <td>0.0</td>\n",
              "      <td>0.0</td>\n",
              "      <td>0.0</td>\n",
              "      <td>0.0</td>\n",
              "      <td>0.0</td>\n",
              "      <td>1.0</td>\n",
              "      <td>...</td>\n",
              "      <td>1.0</td>\n",
              "      <td>0.0</td>\n",
              "      <td>4.0</td>\n",
              "      <td>0.0</td>\n",
              "      <td>2.0</td>\n",
              "      <td>1.0</td>\n",
              "      <td>1.0</td>\n",
              "      <td>1.0</td>\n",
              "      <td>1.0</td>\n",
              "      <td>1.0</td>\n",
              "    </tr>\n",
              "    <tr>\n",
              "      <th>4</th>\n",
              "      <td>AFG</td>\n",
              "      <td>Storm</td>\n",
              "      <td>0.0</td>\n",
              "      <td>0.0</td>\n",
              "      <td>0.0</td>\n",
              "      <td>0.0</td>\n",
              "      <td>0.0</td>\n",
              "      <td>0.0</td>\n",
              "      <td>0.0</td>\n",
              "      <td>0.0</td>\n",
              "      <td>...</td>\n",
              "      <td>0.0</td>\n",
              "      <td>1.0</td>\n",
              "      <td>0.0</td>\n",
              "      <td>0.0</td>\n",
              "      <td>2.0</td>\n",
              "      <td>0.0</td>\n",
              "      <td>0.0</td>\n",
              "      <td>1.0</td>\n",
              "      <td>0.0</td>\n",
              "      <td>0.0</td>\n",
              "    </tr>\n",
              "  </tbody>\n",
              "</table>\n",
              "<p>5 rows × 45 columns</p>\n",
              "</div>\n",
              "      <button class=\"colab-df-convert\" onclick=\"convertToInteractive('df-b94c5f2a-8950-477e-adf1-3e93f8f418e2')\"\n",
              "              title=\"Convert this dataframe to an interactive table.\"\n",
              "              style=\"display:none;\">\n",
              "\n",
              "  <svg xmlns=\"http://www.w3.org/2000/svg\" height=\"24px\"viewBox=\"0 0 24 24\"\n",
              "       width=\"24px\">\n",
              "    <path d=\"M0 0h24v24H0V0z\" fill=\"none\"/>\n",
              "    <path d=\"M18.56 5.44l.94 2.06.94-2.06 2.06-.94-2.06-.94-.94-2.06-.94 2.06-2.06.94zm-11 1L8.5 8.5l.94-2.06 2.06-.94-2.06-.94L8.5 2.5l-.94 2.06-2.06.94zm10 10l.94 2.06.94-2.06 2.06-.94-2.06-.94-.94-2.06-.94 2.06-2.06.94z\"/><path d=\"M17.41 7.96l-1.37-1.37c-.4-.4-.92-.59-1.43-.59-.52 0-1.04.2-1.43.59L10.3 9.45l-7.72 7.72c-.78.78-.78 2.05 0 2.83L4 21.41c.39.39.9.59 1.41.59.51 0 1.02-.2 1.41-.59l7.78-7.78 2.81-2.81c.8-.78.8-2.07 0-2.86zM5.41 20L4 18.59l7.72-7.72 1.47 1.35L5.41 20z\"/>\n",
              "  </svg>\n",
              "      </button>\n",
              "\n",
              "\n",
              "\n",
              "    <div id=\"df-57a74ca1-0e47-4992-940f-45ab2c3a581a\">\n",
              "      <button class=\"colab-df-quickchart\" onclick=\"quickchart('df-57a74ca1-0e47-4992-940f-45ab2c3a581a')\"\n",
              "              title=\"Suggest charts.\"\n",
              "              style=\"display:none;\">\n",
              "\n",
              "<svg xmlns=\"http://www.w3.org/2000/svg\" height=\"24px\"viewBox=\"0 0 24 24\"\n",
              "     width=\"24px\">\n",
              "    <g>\n",
              "        <path d=\"M19 3H5c-1.1 0-2 .9-2 2v14c0 1.1.9 2 2 2h14c1.1 0 2-.9 2-2V5c0-1.1-.9-2-2-2zM9 17H7v-7h2v7zm4 0h-2V7h2v10zm4 0h-2v-4h2v4z\"/>\n",
              "    </g>\n",
              "</svg>\n",
              "      </button>\n",
              "    </div>\n",
              "\n",
              "<style>\n",
              "  .colab-df-quickchart {\n",
              "    background-color: #E8F0FE;\n",
              "    border: none;\n",
              "    border-radius: 50%;\n",
              "    cursor: pointer;\n",
              "    display: none;\n",
              "    fill: #1967D2;\n",
              "    height: 32px;\n",
              "    padding: 0 0 0 0;\n",
              "    width: 32px;\n",
              "  }\n",
              "\n",
              "  .colab-df-quickchart:hover {\n",
              "    background-color: #E2EBFA;\n",
              "    box-shadow: 0px 1px 2px rgba(60, 64, 67, 0.3), 0px 1px 3px 1px rgba(60, 64, 67, 0.15);\n",
              "    fill: #174EA6;\n",
              "  }\n",
              "\n",
              "  [theme=dark] .colab-df-quickchart {\n",
              "    background-color: #3B4455;\n",
              "    fill: #D2E3FC;\n",
              "  }\n",
              "\n",
              "  [theme=dark] .colab-df-quickchart:hover {\n",
              "    background-color: #434B5C;\n",
              "    box-shadow: 0px 1px 3px 1px rgba(0, 0, 0, 0.15);\n",
              "    filter: drop-shadow(0px 1px 2px rgba(0, 0, 0, 0.3));\n",
              "    fill: #FFFFFF;\n",
              "  }\n",
              "</style>\n",
              "\n",
              "    <script>\n",
              "      async function quickchart(key) {\n",
              "        const containerElement = document.querySelector('#' + key);\n",
              "        const charts = await google.colab.kernel.invokeFunction(\n",
              "            'suggestCharts', [key], {});\n",
              "      }\n",
              "    </script>\n",
              "\n",
              "      <script>\n",
              "\n",
              "function displayQuickchartButton(domScope) {\n",
              "  let quickchartButtonEl =\n",
              "    domScope.querySelector('#df-57a74ca1-0e47-4992-940f-45ab2c3a581a button.colab-df-quickchart');\n",
              "  quickchartButtonEl.style.display =\n",
              "    google.colab.kernel.accessAllowed ? 'block' : 'none';\n",
              "}\n",
              "\n",
              "        displayQuickchartButton(document);\n",
              "      </script>\n",
              "      <style>\n",
              "    .colab-df-container {\n",
              "      display:flex;\n",
              "      flex-wrap:wrap;\n",
              "      gap: 12px;\n",
              "    }\n",
              "\n",
              "    .colab-df-convert {\n",
              "      background-color: #E8F0FE;\n",
              "      border: none;\n",
              "      border-radius: 50%;\n",
              "      cursor: pointer;\n",
              "      display: none;\n",
              "      fill: #1967D2;\n",
              "      height: 32px;\n",
              "      padding: 0 0 0 0;\n",
              "      width: 32px;\n",
              "    }\n",
              "\n",
              "    .colab-df-convert:hover {\n",
              "      background-color: #E2EBFA;\n",
              "      box-shadow: 0px 1px 2px rgba(60, 64, 67, 0.3), 0px 1px 3px 1px rgba(60, 64, 67, 0.15);\n",
              "      fill: #174EA6;\n",
              "    }\n",
              "\n",
              "    [theme=dark] .colab-df-convert {\n",
              "      background-color: #3B4455;\n",
              "      fill: #D2E3FC;\n",
              "    }\n",
              "\n",
              "    [theme=dark] .colab-df-convert:hover {\n",
              "      background-color: #434B5C;\n",
              "      box-shadow: 0px 1px 3px 1px rgba(0, 0, 0, 0.15);\n",
              "      filter: drop-shadow(0px 1px 2px rgba(0, 0, 0, 0.3));\n",
              "      fill: #FFFFFF;\n",
              "    }\n",
              "  </style>\n",
              "\n",
              "      <script>\n",
              "        const buttonEl =\n",
              "          document.querySelector('#df-b94c5f2a-8950-477e-adf1-3e93f8f418e2 button.colab-df-convert');\n",
              "        buttonEl.style.display =\n",
              "          google.colab.kernel.accessAllowed ? 'block' : 'none';\n",
              "\n",
              "        async function convertToInteractive(key) {\n",
              "          const element = document.querySelector('#df-b94c5f2a-8950-477e-adf1-3e93f8f418e2');\n",
              "          const dataTable =\n",
              "            await google.colab.kernel.invokeFunction('convertToInteractive',\n",
              "                                                     [key], {});\n",
              "          if (!dataTable) return;\n",
              "\n",
              "          const docLinkHtml = 'Like what you see? Visit the ' +\n",
              "            '<a target=\"_blank\" href=https://colab.research.google.com/notebooks/data_table.ipynb>data table notebook</a>'\n",
              "            + ' to learn more about interactive tables.';\n",
              "          element.innerHTML = '';\n",
              "          dataTable['output_type'] = 'display_data';\n",
              "          await google.colab.output.renderOutput(dataTable, element);\n",
              "          const docLink = document.createElement('div');\n",
              "          docLink.innerHTML = docLinkHtml;\n",
              "          element.appendChild(docLink);\n",
              "        }\n",
              "      </script>\n",
              "    </div>\n",
              "  </div>\n"
            ]
          },
          "metadata": {},
          "execution_count": 12
        }
      ]
    },
    {
      "cell_type": "code",
      "source": [
        "df_new_dis_ = pd.melt(data_disaster_country, id_vars=['Code','Indicator'] , var_name='Year', value_name ='Disaster')\n",
        "df_pivoted_disaster = df_new_dis_.pivot(index=['Code', 'Year'], columns='Indicator', values='Disaster')\n",
        "df_flattened_disaster = df_pivoted_disaster.reset_index()\n",
        "df_flattened_disaster = df_flattened_disaster.rename_axis(None, axis=1)"
      ],
      "metadata": {
        "id": "0F64XDV0A9SO"
      },
      "execution_count": null,
      "outputs": []
    },
    {
      "cell_type": "code",
      "source": [
        "df_flattened_disaster.fillna(0,inplace=True)\n",
        "for y in ['Year','Drought', 'Extreme temperature', 'Flood', 'Landslide',\n",
        "       'Storm', 'Wildfire']:\n",
        "       df_flattened_disaster[y]=df_flattened_disaster[y].astype(int)\n",
        "\n",
        "df_flat_disaster=trimDataFrame(df_flattened_disaster,1970,2021)\n",
        "df_flat_disaster.isna().sum()"
      ],
      "metadata": {
        "colab": {
          "base_uri": "https://localhost:8080/"
        },
        "id": "KylETNZVA9WC",
        "outputId": "693111a4-4a4c-469f-acc2-45f424dfd52b"
      },
      "execution_count": null,
      "outputs": [
        {
          "output_type": "execute_result",
          "data": {
            "text/plain": [
              "Code                   0\n",
              "Year                   0\n",
              "Drought                0\n",
              "Extreme temperature    0\n",
              "Flood                  0\n",
              "Landslide              0\n",
              "Storm                  0\n",
              "Wildfire               0\n",
              "dtype: int64"
            ]
          },
          "metadata": {},
          "execution_count": 14
        }
      ]
    },
    {
      "cell_type": "code",
      "source": [
        "data_pesticide.isna().sum()"
      ],
      "metadata": {
        "colab": {
          "base_uri": "https://localhost:8080/"
        },
        "id": "fQqi7eqUA9aL",
        "outputId": "246b604c-b9e4-4815-dcb5-5de5f3ae9253"
      },
      "execution_count": null,
      "outputs": [
        {
          "output_type": "execute_result",
          "data": {
            "text/plain": [
              "Domain Code         0\n",
              "Domain              0\n",
              "Area Code (ISO3)    0\n",
              "Area                0\n",
              "Element Code        0\n",
              "Element             0\n",
              "Item Code           0\n",
              "Item                0\n",
              "Year Code           0\n",
              "Year                0\n",
              "Unit                0\n",
              "Value               0\n",
              "Flag                0\n",
              "Flag Description    0\n",
              "dtype: int64"
            ]
          },
          "metadata": {},
          "execution_count": 15
        }
      ]
    },
    {
      "cell_type": "code",
      "source": [
        "data_pesticide.drop(['Domain Code',\t'Domain','Area','Element Code','Element',\t'Item Code', 'Item',\t'Year Code', 'Unit', 'Flag', 'Flag Description'], axis=1, inplace=True)"
      ],
      "metadata": {
        "id": "XjaTJqGjA9dB"
      },
      "execution_count": null,
      "outputs": []
    },
    {
      "cell_type": "code",
      "source": [
        "data_pesticide=data_pesticide.rename(columns={'Area Code (ISO3)':\"Code\",\"Value\":\"pesticide_use\"})\n",
        "data_pesticide"
      ],
      "metadata": {
        "colab": {
          "base_uri": "https://localhost:8080/",
          "height": 424
        },
        "id": "HKI7Mb1iBXad",
        "outputId": "95d21006-f39e-4606-aec8-51f2d4d7e8e4"
      },
      "execution_count": null,
      "outputs": [
        {
          "output_type": "execute_result",
          "data": {
            "text/plain": [
              "     Code  Year  pesticide_use\n",
              "0     ALB  1990           0.17\n",
              "1     ALB  1991           0.17\n",
              "2     ALB  1992           0.17\n",
              "3     ALB  1993           0.17\n",
              "4     ALB  1994           0.29\n",
              "...   ...   ...            ...\n",
              "5869  ZWE  2017           0.53\n",
              "5870  ZWE  2018           0.53\n",
              "5871  ZWE  2019           0.53\n",
              "5872  ZWE  2020           0.53\n",
              "5873  ZWE  2021           0.53\n",
              "\n",
              "[5874 rows x 3 columns]"
            ],
            "text/html": [
              "\n",
              "\n",
              "  <div id=\"df-e60c62b0-a899-4542-8c1a-f559c62e60a4\">\n",
              "    <div class=\"colab-df-container\">\n",
              "      <div>\n",
              "<style scoped>\n",
              "    .dataframe tbody tr th:only-of-type {\n",
              "        vertical-align: middle;\n",
              "    }\n",
              "\n",
              "    .dataframe tbody tr th {\n",
              "        vertical-align: top;\n",
              "    }\n",
              "\n",
              "    .dataframe thead th {\n",
              "        text-align: right;\n",
              "    }\n",
              "</style>\n",
              "<table border=\"1\" class=\"dataframe\">\n",
              "  <thead>\n",
              "    <tr style=\"text-align: right;\">\n",
              "      <th></th>\n",
              "      <th>Code</th>\n",
              "      <th>Year</th>\n",
              "      <th>pesticide_use</th>\n",
              "    </tr>\n",
              "  </thead>\n",
              "  <tbody>\n",
              "    <tr>\n",
              "      <th>0</th>\n",
              "      <td>ALB</td>\n",
              "      <td>1990</td>\n",
              "      <td>0.17</td>\n",
              "    </tr>\n",
              "    <tr>\n",
              "      <th>1</th>\n",
              "      <td>ALB</td>\n",
              "      <td>1991</td>\n",
              "      <td>0.17</td>\n",
              "    </tr>\n",
              "    <tr>\n",
              "      <th>2</th>\n",
              "      <td>ALB</td>\n",
              "      <td>1992</td>\n",
              "      <td>0.17</td>\n",
              "    </tr>\n",
              "    <tr>\n",
              "      <th>3</th>\n",
              "      <td>ALB</td>\n",
              "      <td>1993</td>\n",
              "      <td>0.17</td>\n",
              "    </tr>\n",
              "    <tr>\n",
              "      <th>4</th>\n",
              "      <td>ALB</td>\n",
              "      <td>1994</td>\n",
              "      <td>0.29</td>\n",
              "    </tr>\n",
              "    <tr>\n",
              "      <th>...</th>\n",
              "      <td>...</td>\n",
              "      <td>...</td>\n",
              "      <td>...</td>\n",
              "    </tr>\n",
              "    <tr>\n",
              "      <th>5869</th>\n",
              "      <td>ZWE</td>\n",
              "      <td>2017</td>\n",
              "      <td>0.53</td>\n",
              "    </tr>\n",
              "    <tr>\n",
              "      <th>5870</th>\n",
              "      <td>ZWE</td>\n",
              "      <td>2018</td>\n",
              "      <td>0.53</td>\n",
              "    </tr>\n",
              "    <tr>\n",
              "      <th>5871</th>\n",
              "      <td>ZWE</td>\n",
              "      <td>2019</td>\n",
              "      <td>0.53</td>\n",
              "    </tr>\n",
              "    <tr>\n",
              "      <th>5872</th>\n",
              "      <td>ZWE</td>\n",
              "      <td>2020</td>\n",
              "      <td>0.53</td>\n",
              "    </tr>\n",
              "    <tr>\n",
              "      <th>5873</th>\n",
              "      <td>ZWE</td>\n",
              "      <td>2021</td>\n",
              "      <td>0.53</td>\n",
              "    </tr>\n",
              "  </tbody>\n",
              "</table>\n",
              "<p>5874 rows × 3 columns</p>\n",
              "</div>\n",
              "      <button class=\"colab-df-convert\" onclick=\"convertToInteractive('df-e60c62b0-a899-4542-8c1a-f559c62e60a4')\"\n",
              "              title=\"Convert this dataframe to an interactive table.\"\n",
              "              style=\"display:none;\">\n",
              "\n",
              "  <svg xmlns=\"http://www.w3.org/2000/svg\" height=\"24px\"viewBox=\"0 0 24 24\"\n",
              "       width=\"24px\">\n",
              "    <path d=\"M0 0h24v24H0V0z\" fill=\"none\"/>\n",
              "    <path d=\"M18.56 5.44l.94 2.06.94-2.06 2.06-.94-2.06-.94-.94-2.06-.94 2.06-2.06.94zm-11 1L8.5 8.5l.94-2.06 2.06-.94-2.06-.94L8.5 2.5l-.94 2.06-2.06.94zm10 10l.94 2.06.94-2.06 2.06-.94-2.06-.94-.94-2.06-.94 2.06-2.06.94z\"/><path d=\"M17.41 7.96l-1.37-1.37c-.4-.4-.92-.59-1.43-.59-.52 0-1.04.2-1.43.59L10.3 9.45l-7.72 7.72c-.78.78-.78 2.05 0 2.83L4 21.41c.39.39.9.59 1.41.59.51 0 1.02-.2 1.41-.59l7.78-7.78 2.81-2.81c.8-.78.8-2.07 0-2.86zM5.41 20L4 18.59l7.72-7.72 1.47 1.35L5.41 20z\"/>\n",
              "  </svg>\n",
              "      </button>\n",
              "\n",
              "\n",
              "\n",
              "    <div id=\"df-4b4255af-3662-4b7e-ac47-f581e6e93fbf\">\n",
              "      <button class=\"colab-df-quickchart\" onclick=\"quickchart('df-4b4255af-3662-4b7e-ac47-f581e6e93fbf')\"\n",
              "              title=\"Suggest charts.\"\n",
              "              style=\"display:none;\">\n",
              "\n",
              "<svg xmlns=\"http://www.w3.org/2000/svg\" height=\"24px\"viewBox=\"0 0 24 24\"\n",
              "     width=\"24px\">\n",
              "    <g>\n",
              "        <path d=\"M19 3H5c-1.1 0-2 .9-2 2v14c0 1.1.9 2 2 2h14c1.1 0 2-.9 2-2V5c0-1.1-.9-2-2-2zM9 17H7v-7h2v7zm4 0h-2V7h2v10zm4 0h-2v-4h2v4z\"/>\n",
              "    </g>\n",
              "</svg>\n",
              "      </button>\n",
              "    </div>\n",
              "\n",
              "<style>\n",
              "  .colab-df-quickchart {\n",
              "    background-color: #E8F0FE;\n",
              "    border: none;\n",
              "    border-radius: 50%;\n",
              "    cursor: pointer;\n",
              "    display: none;\n",
              "    fill: #1967D2;\n",
              "    height: 32px;\n",
              "    padding: 0 0 0 0;\n",
              "    width: 32px;\n",
              "  }\n",
              "\n",
              "  .colab-df-quickchart:hover {\n",
              "    background-color: #E2EBFA;\n",
              "    box-shadow: 0px 1px 2px rgba(60, 64, 67, 0.3), 0px 1px 3px 1px rgba(60, 64, 67, 0.15);\n",
              "    fill: #174EA6;\n",
              "  }\n",
              "\n",
              "  [theme=dark] .colab-df-quickchart {\n",
              "    background-color: #3B4455;\n",
              "    fill: #D2E3FC;\n",
              "  }\n",
              "\n",
              "  [theme=dark] .colab-df-quickchart:hover {\n",
              "    background-color: #434B5C;\n",
              "    box-shadow: 0px 1px 3px 1px rgba(0, 0, 0, 0.15);\n",
              "    filter: drop-shadow(0px 1px 2px rgba(0, 0, 0, 0.3));\n",
              "    fill: #FFFFFF;\n",
              "  }\n",
              "</style>\n",
              "\n",
              "    <script>\n",
              "      async function quickchart(key) {\n",
              "        const containerElement = document.querySelector('#' + key);\n",
              "        const charts = await google.colab.kernel.invokeFunction(\n",
              "            'suggestCharts', [key], {});\n",
              "      }\n",
              "    </script>\n",
              "\n",
              "      <script>\n",
              "\n",
              "function displayQuickchartButton(domScope) {\n",
              "  let quickchartButtonEl =\n",
              "    domScope.querySelector('#df-4b4255af-3662-4b7e-ac47-f581e6e93fbf button.colab-df-quickchart');\n",
              "  quickchartButtonEl.style.display =\n",
              "    google.colab.kernel.accessAllowed ? 'block' : 'none';\n",
              "}\n",
              "\n",
              "        displayQuickchartButton(document);\n",
              "      </script>\n",
              "      <style>\n",
              "    .colab-df-container {\n",
              "      display:flex;\n",
              "      flex-wrap:wrap;\n",
              "      gap: 12px;\n",
              "    }\n",
              "\n",
              "    .colab-df-convert {\n",
              "      background-color: #E8F0FE;\n",
              "      border: none;\n",
              "      border-radius: 50%;\n",
              "      cursor: pointer;\n",
              "      display: none;\n",
              "      fill: #1967D2;\n",
              "      height: 32px;\n",
              "      padding: 0 0 0 0;\n",
              "      width: 32px;\n",
              "    }\n",
              "\n",
              "    .colab-df-convert:hover {\n",
              "      background-color: #E2EBFA;\n",
              "      box-shadow: 0px 1px 2px rgba(60, 64, 67, 0.3), 0px 1px 3px 1px rgba(60, 64, 67, 0.15);\n",
              "      fill: #174EA6;\n",
              "    }\n",
              "\n",
              "    [theme=dark] .colab-df-convert {\n",
              "      background-color: #3B4455;\n",
              "      fill: #D2E3FC;\n",
              "    }\n",
              "\n",
              "    [theme=dark] .colab-df-convert:hover {\n",
              "      background-color: #434B5C;\n",
              "      box-shadow: 0px 1px 3px 1px rgba(0, 0, 0, 0.15);\n",
              "      filter: drop-shadow(0px 1px 2px rgba(0, 0, 0, 0.3));\n",
              "      fill: #FFFFFF;\n",
              "    }\n",
              "  </style>\n",
              "\n",
              "      <script>\n",
              "        const buttonEl =\n",
              "          document.querySelector('#df-e60c62b0-a899-4542-8c1a-f559c62e60a4 button.colab-df-convert');\n",
              "        buttonEl.style.display =\n",
              "          google.colab.kernel.accessAllowed ? 'block' : 'none';\n",
              "\n",
              "        async function convertToInteractive(key) {\n",
              "          const element = document.querySelector('#df-e60c62b0-a899-4542-8c1a-f559c62e60a4');\n",
              "          const dataTable =\n",
              "            await google.colab.kernel.invokeFunction('convertToInteractive',\n",
              "                                                     [key], {});\n",
              "          if (!dataTable) return;\n",
              "\n",
              "          const docLinkHtml = 'Like what you see? Visit the ' +\n",
              "            '<a target=\"_blank\" href=https://colab.research.google.com/notebooks/data_table.ipynb>data table notebook</a>'\n",
              "            + ' to learn more about interactive tables.';\n",
              "          element.innerHTML = '';\n",
              "          dataTable['output_type'] = 'display_data';\n",
              "          await google.colab.output.renderOutput(dataTable, element);\n",
              "          const docLink = document.createElement('div');\n",
              "          docLink.innerHTML = docLinkHtml;\n",
              "          element.appendChild(docLink);\n",
              "        }\n",
              "      </script>\n",
              "    </div>\n",
              "  </div>\n"
            ]
          },
          "metadata": {},
          "execution_count": 17
        }
      ]
    },
    {
      "cell_type": "code",
      "source": [
        "data_fertilizer['Item'].unique()"
      ],
      "metadata": {
        "colab": {
          "base_uri": "https://localhost:8080/"
        },
        "id": "wzfmk8yQBXkm",
        "outputId": "0f353c65-9a8f-40fb-dac6-2fed78961919"
      },
      "execution_count": null,
      "outputs": [
        {
          "output_type": "execute_result",
          "data": {
            "text/plain": [
              "array(['Nutrient nitrogen N (total)', 'Nutrient phosphate P2O5 (total)',\n",
              "       'Nutrient potash K2O (total)'], dtype=object)"
            ]
          },
          "metadata": {},
          "execution_count": 18
        }
      ]
    },
    {
      "cell_type": "code",
      "source": [
        "data_fertilizer.isna().sum()"
      ],
      "metadata": {
        "colab": {
          "base_uri": "https://localhost:8080/"
        },
        "id": "zd9lBwI1BXoC",
        "outputId": "4137b3f6-65bf-42ef-a844-3dda518d2a9a"
      },
      "execution_count": null,
      "outputs": [
        {
          "output_type": "execute_result",
          "data": {
            "text/plain": [
              "Domain Code             0\n",
              "Domain                  0\n",
              "Area Code (ISO3)        0\n",
              "Area                    0\n",
              "Element Code            0\n",
              "Element                 0\n",
              "Item Code               0\n",
              "Item                    0\n",
              "Year Code               0\n",
              "Year                    0\n",
              "Unit                11595\n",
              "Value               11595\n",
              "Flag                11595\n",
              "Flag Description    11595\n",
              "Note                37908\n",
              "dtype: int64"
            ]
          },
          "metadata": {},
          "execution_count": 19
        }
      ]
    },
    {
      "cell_type": "code",
      "source": [
        "data_N=data_fertilizer[data_fertilizer['Item']=='Nutrient nitrogen N (total)']\n",
        "data_P=data_fertilizer[data_fertilizer['Item']=='Nutrient phosphate P2O5 (total)']\n",
        "data_K=data_fertilizer[data_fertilizer['Item']=='Nutrient potash K2O (total)']"
      ],
      "metadata": {
        "id": "U3X4mMcyBXqc"
      },
      "execution_count": null,
      "outputs": []
    },
    {
      "cell_type": "code",
      "source": [
        "data_N.drop(['Domain Code',\t'Domain','Area','Element Code','Element',\t'Item Code', 'Item',\t'Year Code', 'Unit', 'Flag', 'Flag Description','Note'], axis=1, inplace=True)\n",
        "data_P.drop(['Domain Code',\t'Domain','Area','Element Code','Element',\t'Item Code', 'Item',\t'Year Code', 'Unit', 'Flag', 'Flag Description','Note'], axis=1, inplace=True)\n",
        "data_K.drop(['Domain Code',\t'Domain','Area','Element Code','Element',\t'Item Code', 'Item',\t'Year Code', 'Unit', 'Flag', 'Flag Description','Note'], axis=1, inplace=True)"
      ],
      "metadata": {
        "id": "WS3TtpV5BXtZ"
      },
      "execution_count": null,
      "outputs": []
    },
    {
      "cell_type": "code",
      "source": [
        "data_N=data_N.rename(columns={'Area Code (ISO3)':\"Code\",\"Value\":\"N_content\"})\n",
        "data_P=data_P.rename(columns={'Area Code (ISO3)':\"Code\",\"Value\":\"P_content\"})\n",
        "data_K=data_K.rename(columns={'Area Code (ISO3)':\"Code\",\"Value\":\"K_content\"})"
      ],
      "metadata": {
        "id": "ruEHv02nBlQ9"
      },
      "execution_count": null,
      "outputs": []
    },
    {
      "cell_type": "code",
      "source": [
        "data_N.fillna(0,inplace=True)\n",
        "data_P.fillna(0,inplace=True)\n",
        "data_K.fillna(0,inplace=True)"
      ],
      "metadata": {
        "id": "YdblEsggBlY7"
      },
      "execution_count": null,
      "outputs": []
    },
    {
      "cell_type": "code",
      "source": [
        "print(data_N.isna().sum())\n",
        "print(\"-\"*20)\n",
        "print(data_P.isna().sum())\n",
        "print(\"-\"*20)\n",
        "print(data_K.isna().sum())"
      ],
      "metadata": {
        "colab": {
          "base_uri": "https://localhost:8080/"
        },
        "id": "_vQ9hUWuBlcn",
        "outputId": "e2d84f24-91b5-44ac-f41a-23c3ab21061c"
      },
      "execution_count": null,
      "outputs": [
        {
          "output_type": "stream",
          "name": "stdout",
          "text": [
            "Code         0\n",
            "Year         0\n",
            "N_content    0\n",
            "dtype: int64\n",
            "--------------------\n",
            "Code         0\n",
            "Year         0\n",
            "P_content    0\n",
            "dtype: int64\n",
            "--------------------\n",
            "Code         0\n",
            "Year         0\n",
            "K_content    0\n",
            "dtype: int64\n"
          ]
        }
      ]
    },
    {
      "cell_type": "code",
      "source": [
        "data_arable.head()"
      ],
      "metadata": {
        "colab": {
          "base_uri": "https://localhost:8080/",
          "height": 250
        },
        "id": "LhnqJL8KBlf8",
        "outputId": "8d6a8d20-9f15-4f67-81ad-40623d4603f6"
      },
      "execution_count": null,
      "outputs": [
        {
          "output_type": "execute_result",
          "data": {
            "text/plain": [
              "  Domain Code    Domain Area Code (ISO3)         Area  Element Code Element  \\\n",
              "0          RL  Land Use              AFG  Afghanistan          5110    Area   \n",
              "1          RL  Land Use              AFG  Afghanistan          5110    Area   \n",
              "2          RL  Land Use              AFG  Afghanistan          5110    Area   \n",
              "3          RL  Land Use              AFG  Afghanistan          5110    Area   \n",
              "4          RL  Land Use              AFG  Afghanistan          5110    Area   \n",
              "\n",
              "   Item Code         Item  Year Code  Year     Unit   Value Flag  \\\n",
              "0       6621  Arable land       1961  1961  1000 ha  7650.0    I   \n",
              "1       6621  Arable land       1962  1962  1000 ha  7700.0    I   \n",
              "2       6621  Arable land       1963  1963  1000 ha  7750.0    I   \n",
              "3       6621  Arable land       1964  1964  1000 ha  7800.0    A   \n",
              "4       6621  Arable land       1965  1965  1000 ha  7800.0    A   \n",
              "\n",
              "  Flag Description  \n",
              "0    Imputed value  \n",
              "1    Imputed value  \n",
              "2    Imputed value  \n",
              "3  Official figure  \n",
              "4  Official figure  "
            ],
            "text/html": [
              "\n",
              "\n",
              "  <div id=\"df-ba5989c3-6ddb-4dd9-9ea3-88195e9256e8\">\n",
              "    <div class=\"colab-df-container\">\n",
              "      <div>\n",
              "<style scoped>\n",
              "    .dataframe tbody tr th:only-of-type {\n",
              "        vertical-align: middle;\n",
              "    }\n",
              "\n",
              "    .dataframe tbody tr th {\n",
              "        vertical-align: top;\n",
              "    }\n",
              "\n",
              "    .dataframe thead th {\n",
              "        text-align: right;\n",
              "    }\n",
              "</style>\n",
              "<table border=\"1\" class=\"dataframe\">\n",
              "  <thead>\n",
              "    <tr style=\"text-align: right;\">\n",
              "      <th></th>\n",
              "      <th>Domain Code</th>\n",
              "      <th>Domain</th>\n",
              "      <th>Area Code (ISO3)</th>\n",
              "      <th>Area</th>\n",
              "      <th>Element Code</th>\n",
              "      <th>Element</th>\n",
              "      <th>Item Code</th>\n",
              "      <th>Item</th>\n",
              "      <th>Year Code</th>\n",
              "      <th>Year</th>\n",
              "      <th>Unit</th>\n",
              "      <th>Value</th>\n",
              "      <th>Flag</th>\n",
              "      <th>Flag Description</th>\n",
              "    </tr>\n",
              "  </thead>\n",
              "  <tbody>\n",
              "    <tr>\n",
              "      <th>0</th>\n",
              "      <td>RL</td>\n",
              "      <td>Land Use</td>\n",
              "      <td>AFG</td>\n",
              "      <td>Afghanistan</td>\n",
              "      <td>5110</td>\n",
              "      <td>Area</td>\n",
              "      <td>6621</td>\n",
              "      <td>Arable land</td>\n",
              "      <td>1961</td>\n",
              "      <td>1961</td>\n",
              "      <td>1000 ha</td>\n",
              "      <td>7650.0</td>\n",
              "      <td>I</td>\n",
              "      <td>Imputed value</td>\n",
              "    </tr>\n",
              "    <tr>\n",
              "      <th>1</th>\n",
              "      <td>RL</td>\n",
              "      <td>Land Use</td>\n",
              "      <td>AFG</td>\n",
              "      <td>Afghanistan</td>\n",
              "      <td>5110</td>\n",
              "      <td>Area</td>\n",
              "      <td>6621</td>\n",
              "      <td>Arable land</td>\n",
              "      <td>1962</td>\n",
              "      <td>1962</td>\n",
              "      <td>1000 ha</td>\n",
              "      <td>7700.0</td>\n",
              "      <td>I</td>\n",
              "      <td>Imputed value</td>\n",
              "    </tr>\n",
              "    <tr>\n",
              "      <th>2</th>\n",
              "      <td>RL</td>\n",
              "      <td>Land Use</td>\n",
              "      <td>AFG</td>\n",
              "      <td>Afghanistan</td>\n",
              "      <td>5110</td>\n",
              "      <td>Area</td>\n",
              "      <td>6621</td>\n",
              "      <td>Arable land</td>\n",
              "      <td>1963</td>\n",
              "      <td>1963</td>\n",
              "      <td>1000 ha</td>\n",
              "      <td>7750.0</td>\n",
              "      <td>I</td>\n",
              "      <td>Imputed value</td>\n",
              "    </tr>\n",
              "    <tr>\n",
              "      <th>3</th>\n",
              "      <td>RL</td>\n",
              "      <td>Land Use</td>\n",
              "      <td>AFG</td>\n",
              "      <td>Afghanistan</td>\n",
              "      <td>5110</td>\n",
              "      <td>Area</td>\n",
              "      <td>6621</td>\n",
              "      <td>Arable land</td>\n",
              "      <td>1964</td>\n",
              "      <td>1964</td>\n",
              "      <td>1000 ha</td>\n",
              "      <td>7800.0</td>\n",
              "      <td>A</td>\n",
              "      <td>Official figure</td>\n",
              "    </tr>\n",
              "    <tr>\n",
              "      <th>4</th>\n",
              "      <td>RL</td>\n",
              "      <td>Land Use</td>\n",
              "      <td>AFG</td>\n",
              "      <td>Afghanistan</td>\n",
              "      <td>5110</td>\n",
              "      <td>Area</td>\n",
              "      <td>6621</td>\n",
              "      <td>Arable land</td>\n",
              "      <td>1965</td>\n",
              "      <td>1965</td>\n",
              "      <td>1000 ha</td>\n",
              "      <td>7800.0</td>\n",
              "      <td>A</td>\n",
              "      <td>Official figure</td>\n",
              "    </tr>\n",
              "  </tbody>\n",
              "</table>\n",
              "</div>\n",
              "      <button class=\"colab-df-convert\" onclick=\"convertToInteractive('df-ba5989c3-6ddb-4dd9-9ea3-88195e9256e8')\"\n",
              "              title=\"Convert this dataframe to an interactive table.\"\n",
              "              style=\"display:none;\">\n",
              "\n",
              "  <svg xmlns=\"http://www.w3.org/2000/svg\" height=\"24px\"viewBox=\"0 0 24 24\"\n",
              "       width=\"24px\">\n",
              "    <path d=\"M0 0h24v24H0V0z\" fill=\"none\"/>\n",
              "    <path d=\"M18.56 5.44l.94 2.06.94-2.06 2.06-.94-2.06-.94-.94-2.06-.94 2.06-2.06.94zm-11 1L8.5 8.5l.94-2.06 2.06-.94-2.06-.94L8.5 2.5l-.94 2.06-2.06.94zm10 10l.94 2.06.94-2.06 2.06-.94-2.06-.94-.94-2.06-.94 2.06-2.06.94z\"/><path d=\"M17.41 7.96l-1.37-1.37c-.4-.4-.92-.59-1.43-.59-.52 0-1.04.2-1.43.59L10.3 9.45l-7.72 7.72c-.78.78-.78 2.05 0 2.83L4 21.41c.39.39.9.59 1.41.59.51 0 1.02-.2 1.41-.59l7.78-7.78 2.81-2.81c.8-.78.8-2.07 0-2.86zM5.41 20L4 18.59l7.72-7.72 1.47 1.35L5.41 20z\"/>\n",
              "  </svg>\n",
              "      </button>\n",
              "\n",
              "\n",
              "\n",
              "    <div id=\"df-53842851-50f0-4dae-b48f-b7e32b7f6975\">\n",
              "      <button class=\"colab-df-quickchart\" onclick=\"quickchart('df-53842851-50f0-4dae-b48f-b7e32b7f6975')\"\n",
              "              title=\"Suggest charts.\"\n",
              "              style=\"display:none;\">\n",
              "\n",
              "<svg xmlns=\"http://www.w3.org/2000/svg\" height=\"24px\"viewBox=\"0 0 24 24\"\n",
              "     width=\"24px\">\n",
              "    <g>\n",
              "        <path d=\"M19 3H5c-1.1 0-2 .9-2 2v14c0 1.1.9 2 2 2h14c1.1 0 2-.9 2-2V5c0-1.1-.9-2-2-2zM9 17H7v-7h2v7zm4 0h-2V7h2v10zm4 0h-2v-4h2v4z\"/>\n",
              "    </g>\n",
              "</svg>\n",
              "      </button>\n",
              "    </div>\n",
              "\n",
              "<style>\n",
              "  .colab-df-quickchart {\n",
              "    background-color: #E8F0FE;\n",
              "    border: none;\n",
              "    border-radius: 50%;\n",
              "    cursor: pointer;\n",
              "    display: none;\n",
              "    fill: #1967D2;\n",
              "    height: 32px;\n",
              "    padding: 0 0 0 0;\n",
              "    width: 32px;\n",
              "  }\n",
              "\n",
              "  .colab-df-quickchart:hover {\n",
              "    background-color: #E2EBFA;\n",
              "    box-shadow: 0px 1px 2px rgba(60, 64, 67, 0.3), 0px 1px 3px 1px rgba(60, 64, 67, 0.15);\n",
              "    fill: #174EA6;\n",
              "  }\n",
              "\n",
              "  [theme=dark] .colab-df-quickchart {\n",
              "    background-color: #3B4455;\n",
              "    fill: #D2E3FC;\n",
              "  }\n",
              "\n",
              "  [theme=dark] .colab-df-quickchart:hover {\n",
              "    background-color: #434B5C;\n",
              "    box-shadow: 0px 1px 3px 1px rgba(0, 0, 0, 0.15);\n",
              "    filter: drop-shadow(0px 1px 2px rgba(0, 0, 0, 0.3));\n",
              "    fill: #FFFFFF;\n",
              "  }\n",
              "</style>\n",
              "\n",
              "    <script>\n",
              "      async function quickchart(key) {\n",
              "        const containerElement = document.querySelector('#' + key);\n",
              "        const charts = await google.colab.kernel.invokeFunction(\n",
              "            'suggestCharts', [key], {});\n",
              "      }\n",
              "    </script>\n",
              "\n",
              "      <script>\n",
              "\n",
              "function displayQuickchartButton(domScope) {\n",
              "  let quickchartButtonEl =\n",
              "    domScope.querySelector('#df-53842851-50f0-4dae-b48f-b7e32b7f6975 button.colab-df-quickchart');\n",
              "  quickchartButtonEl.style.display =\n",
              "    google.colab.kernel.accessAllowed ? 'block' : 'none';\n",
              "}\n",
              "\n",
              "        displayQuickchartButton(document);\n",
              "      </script>\n",
              "      <style>\n",
              "    .colab-df-container {\n",
              "      display:flex;\n",
              "      flex-wrap:wrap;\n",
              "      gap: 12px;\n",
              "    }\n",
              "\n",
              "    .colab-df-convert {\n",
              "      background-color: #E8F0FE;\n",
              "      border: none;\n",
              "      border-radius: 50%;\n",
              "      cursor: pointer;\n",
              "      display: none;\n",
              "      fill: #1967D2;\n",
              "      height: 32px;\n",
              "      padding: 0 0 0 0;\n",
              "      width: 32px;\n",
              "    }\n",
              "\n",
              "    .colab-df-convert:hover {\n",
              "      background-color: #E2EBFA;\n",
              "      box-shadow: 0px 1px 2px rgba(60, 64, 67, 0.3), 0px 1px 3px 1px rgba(60, 64, 67, 0.15);\n",
              "      fill: #174EA6;\n",
              "    }\n",
              "\n",
              "    [theme=dark] .colab-df-convert {\n",
              "      background-color: #3B4455;\n",
              "      fill: #D2E3FC;\n",
              "    }\n",
              "\n",
              "    [theme=dark] .colab-df-convert:hover {\n",
              "      background-color: #434B5C;\n",
              "      box-shadow: 0px 1px 3px 1px rgba(0, 0, 0, 0.15);\n",
              "      filter: drop-shadow(0px 1px 2px rgba(0, 0, 0, 0.3));\n",
              "      fill: #FFFFFF;\n",
              "    }\n",
              "  </style>\n",
              "\n",
              "      <script>\n",
              "        const buttonEl =\n",
              "          document.querySelector('#df-ba5989c3-6ddb-4dd9-9ea3-88195e9256e8 button.colab-df-convert');\n",
              "        buttonEl.style.display =\n",
              "          google.colab.kernel.accessAllowed ? 'block' : 'none';\n",
              "\n",
              "        async function convertToInteractive(key) {\n",
              "          const element = document.querySelector('#df-ba5989c3-6ddb-4dd9-9ea3-88195e9256e8');\n",
              "          const dataTable =\n",
              "            await google.colab.kernel.invokeFunction('convertToInteractive',\n",
              "                                                     [key], {});\n",
              "          if (!dataTable) return;\n",
              "\n",
              "          const docLinkHtml = 'Like what you see? Visit the ' +\n",
              "            '<a target=\"_blank\" href=https://colab.research.google.com/notebooks/data_table.ipynb>data table notebook</a>'\n",
              "            + ' to learn more about interactive tables.';\n",
              "          element.innerHTML = '';\n",
              "          dataTable['output_type'] = 'display_data';\n",
              "          await google.colab.output.renderOutput(dataTable, element);\n",
              "          const docLink = document.createElement('div');\n",
              "          docLink.innerHTML = docLinkHtml;\n",
              "          element.appendChild(docLink);\n",
              "        }\n",
              "      </script>\n",
              "    </div>\n",
              "  </div>\n"
            ]
          },
          "metadata": {},
          "execution_count": 25
        }
      ]
    },
    {
      "cell_type": "code",
      "source": [
        "data_arable.drop(['Domain Code',\t'Domain','Area','Element Code','Element',\t'Item Code', 'Item',\t'Year Code', 'Unit', 'Flag', 'Flag Description'], axis=1, inplace=True)"
      ],
      "metadata": {
        "id": "bUw5B9wbBljR"
      },
      "execution_count": null,
      "outputs": []
    },
    {
      "cell_type": "code",
      "source": [
        "data_arable=data_arable.rename(columns={'Area Code (ISO3)':\"Code\",\"Value\":\"arable_land\"})"
      ],
      "metadata": {
        "id": "k_98R_1IBw8p"
      },
      "execution_count": null,
      "outputs": []
    },
    {
      "cell_type": "code",
      "source": [
        "data_wheat.drop([\"Entity\"],axis=1,inplace=True)\n",
        "data_wheat=data_wheat.rename(columns={'Wheat | 00000015 || Production | 005510 || tonnes':\"wheat\"})\n",
        "data_wheat[\"Code\"].unique()"
      ],
      "metadata": {
        "colab": {
          "base_uri": "https://localhost:8080/"
        },
        "id": "WzvxO_j_BxCC",
        "outputId": "0de19618-c857-48f1-fdb1-da79d3283394"
      },
      "execution_count": null,
      "outputs": [
        {
          "output_type": "execute_result",
          "data": {
            "text/plain": [
              "array(['AFG', nan, 'ALB', 'DZA', 'AGO', 'ARG', 'ARM', 'AUS', 'AUT', 'AZE',\n",
              "       'BGD', 'BLR', 'BEL', 'BTN', 'BOL', 'BIH', 'BWA', 'BRA', 'BGR',\n",
              "       'BDI', 'CMR', 'CAN', 'TCD', 'CHL', 'CHN', 'COL', 'HRV', 'CYP',\n",
              "       'CZE', 'OWID_CZS', 'COD', 'DNK', 'ECU', 'EGY', 'ERI', 'EST', 'SWZ',\n",
              "       'ETH', 'OWID_ERE', 'FIN', 'FRA', 'GEO', 'DEU', 'GRC', 'GTM', 'HND',\n",
              "       'HUN', 'IND', 'IRN', 'IRQ', 'IRL', 'ISR', 'ITA', 'JPN', 'JOR',\n",
              "       'KAZ', 'KEN', 'KWT', 'KGZ', 'LVA', 'LBN', 'LSO', 'LBY', 'LTU',\n",
              "       'LUX', 'MDG', 'MWI', 'MLI', 'MLT', 'MRT', 'OWID_MNS', 'MEX', 'MDA',\n",
              "       'MNG', 'MNE', 'MAR', 'MOZ', 'MMR', 'NAM', 'NPL', 'NLD', 'NCL',\n",
              "       'NZL', 'NER', 'NGA', 'PRK', 'MKD', 'NOR', 'OMN', 'PAK', 'PSE',\n",
              "       'PRY', 'PER', 'POL', 'PRT', 'QAT', 'ROU', 'RUS', 'RWA', 'SAU',\n",
              "       'SRB', 'OWID_SRM', 'SVK', 'SVN', 'SOM', 'ZAF', 'KOR', 'SSD', 'ESP',\n",
              "       'SDN', 'SWE', 'CHE', 'SYR', 'TWN', 'TJK', 'TZA', 'THA', 'TUN',\n",
              "       'TUR', 'TKM', 'OWID_USS', 'UGA', 'UKR', 'ARE', 'GBR', 'USA', 'URY',\n",
              "       'UZB', 'VEN', 'OWID_WRL', 'YEM', 'OWID_YGS', 'ZMB', 'ZWE'],\n",
              "      dtype=object)"
            ]
          },
          "metadata": {},
          "execution_count": 28
        }
      ]
    },
    {
      "cell_type": "code",
      "source": [
        "data_wheat.isna().sum()"
      ],
      "metadata": {
        "colab": {
          "base_uri": "https://localhost:8080/"
        },
        "id": "y7jgW87eBxF0",
        "outputId": "fc5ea3aa-106b-4b01-be79-86fa2912ee41"
      },
      "execution_count": null,
      "outputs": [
        {
          "output_type": "execute_result",
          "data": {
            "text/plain": [
              "Code     2499\n",
              "Year        0\n",
              "wheat       0\n",
              "dtype: int64"
            ]
          },
          "metadata": {},
          "execution_count": 29
        }
      ]
    },
    {
      "cell_type": "code",
      "source": [
        "data_rice.head()"
      ],
      "metadata": {
        "colab": {
          "base_uri": "https://localhost:8080/",
          "height": 206
        },
        "id": "BwiiWdn5BxIX",
        "outputId": "06ef70d6-22a3-4525-9a7c-b4ef0b244c93"
      },
      "execution_count": null,
      "outputs": [
        {
          "output_type": "execute_result",
          "data": {
            "text/plain": [
              "        Entity Code  Year  Rice | 00000027 || Production | 005510 || tonnes\n",
              "0  Afghanistan  AFG  1961                                          319000.0\n",
              "1  Afghanistan  AFG  1962                                          319000.0\n",
              "2  Afghanistan  AFG  1963                                          319000.0\n",
              "3  Afghanistan  AFG  1964                                          380000.0\n",
              "4  Afghanistan  AFG  1965                                          380000.0"
            ],
            "text/html": [
              "\n",
              "\n",
              "  <div id=\"df-b710823b-000a-47ca-8ab3-013412b65f0e\">\n",
              "    <div class=\"colab-df-container\">\n",
              "      <div>\n",
              "<style scoped>\n",
              "    .dataframe tbody tr th:only-of-type {\n",
              "        vertical-align: middle;\n",
              "    }\n",
              "\n",
              "    .dataframe tbody tr th {\n",
              "        vertical-align: top;\n",
              "    }\n",
              "\n",
              "    .dataframe thead th {\n",
              "        text-align: right;\n",
              "    }\n",
              "</style>\n",
              "<table border=\"1\" class=\"dataframe\">\n",
              "  <thead>\n",
              "    <tr style=\"text-align: right;\">\n",
              "      <th></th>\n",
              "      <th>Entity</th>\n",
              "      <th>Code</th>\n",
              "      <th>Year</th>\n",
              "      <th>Rice | 00000027 || Production | 005510 || tonnes</th>\n",
              "    </tr>\n",
              "  </thead>\n",
              "  <tbody>\n",
              "    <tr>\n",
              "      <th>0</th>\n",
              "      <td>Afghanistan</td>\n",
              "      <td>AFG</td>\n",
              "      <td>1961</td>\n",
              "      <td>319000.0</td>\n",
              "    </tr>\n",
              "    <tr>\n",
              "      <th>1</th>\n",
              "      <td>Afghanistan</td>\n",
              "      <td>AFG</td>\n",
              "      <td>1962</td>\n",
              "      <td>319000.0</td>\n",
              "    </tr>\n",
              "    <tr>\n",
              "      <th>2</th>\n",
              "      <td>Afghanistan</td>\n",
              "      <td>AFG</td>\n",
              "      <td>1963</td>\n",
              "      <td>319000.0</td>\n",
              "    </tr>\n",
              "    <tr>\n",
              "      <th>3</th>\n",
              "      <td>Afghanistan</td>\n",
              "      <td>AFG</td>\n",
              "      <td>1964</td>\n",
              "      <td>380000.0</td>\n",
              "    </tr>\n",
              "    <tr>\n",
              "      <th>4</th>\n",
              "      <td>Afghanistan</td>\n",
              "      <td>AFG</td>\n",
              "      <td>1965</td>\n",
              "      <td>380000.0</td>\n",
              "    </tr>\n",
              "  </tbody>\n",
              "</table>\n",
              "</div>\n",
              "      <button class=\"colab-df-convert\" onclick=\"convertToInteractive('df-b710823b-000a-47ca-8ab3-013412b65f0e')\"\n",
              "              title=\"Convert this dataframe to an interactive table.\"\n",
              "              style=\"display:none;\">\n",
              "\n",
              "  <svg xmlns=\"http://www.w3.org/2000/svg\" height=\"24px\"viewBox=\"0 0 24 24\"\n",
              "       width=\"24px\">\n",
              "    <path d=\"M0 0h24v24H0V0z\" fill=\"none\"/>\n",
              "    <path d=\"M18.56 5.44l.94 2.06.94-2.06 2.06-.94-2.06-.94-.94-2.06-.94 2.06-2.06.94zm-11 1L8.5 8.5l.94-2.06 2.06-.94-2.06-.94L8.5 2.5l-.94 2.06-2.06.94zm10 10l.94 2.06.94-2.06 2.06-.94-2.06-.94-.94-2.06-.94 2.06-2.06.94z\"/><path d=\"M17.41 7.96l-1.37-1.37c-.4-.4-.92-.59-1.43-.59-.52 0-1.04.2-1.43.59L10.3 9.45l-7.72 7.72c-.78.78-.78 2.05 0 2.83L4 21.41c.39.39.9.59 1.41.59.51 0 1.02-.2 1.41-.59l7.78-7.78 2.81-2.81c.8-.78.8-2.07 0-2.86zM5.41 20L4 18.59l7.72-7.72 1.47 1.35L5.41 20z\"/>\n",
              "  </svg>\n",
              "      </button>\n",
              "\n",
              "\n",
              "\n",
              "    <div id=\"df-e5b38c24-5059-4ef5-822a-9a5f76267398\">\n",
              "      <button class=\"colab-df-quickchart\" onclick=\"quickchart('df-e5b38c24-5059-4ef5-822a-9a5f76267398')\"\n",
              "              title=\"Suggest charts.\"\n",
              "              style=\"display:none;\">\n",
              "\n",
              "<svg xmlns=\"http://www.w3.org/2000/svg\" height=\"24px\"viewBox=\"0 0 24 24\"\n",
              "     width=\"24px\">\n",
              "    <g>\n",
              "        <path d=\"M19 3H5c-1.1 0-2 .9-2 2v14c0 1.1.9 2 2 2h14c1.1 0 2-.9 2-2V5c0-1.1-.9-2-2-2zM9 17H7v-7h2v7zm4 0h-2V7h2v10zm4 0h-2v-4h2v4z\"/>\n",
              "    </g>\n",
              "</svg>\n",
              "      </button>\n",
              "    </div>\n",
              "\n",
              "<style>\n",
              "  .colab-df-quickchart {\n",
              "    background-color: #E8F0FE;\n",
              "    border: none;\n",
              "    border-radius: 50%;\n",
              "    cursor: pointer;\n",
              "    display: none;\n",
              "    fill: #1967D2;\n",
              "    height: 32px;\n",
              "    padding: 0 0 0 0;\n",
              "    width: 32px;\n",
              "  }\n",
              "\n",
              "  .colab-df-quickchart:hover {\n",
              "    background-color: #E2EBFA;\n",
              "    box-shadow: 0px 1px 2px rgba(60, 64, 67, 0.3), 0px 1px 3px 1px rgba(60, 64, 67, 0.15);\n",
              "    fill: #174EA6;\n",
              "  }\n",
              "\n",
              "  [theme=dark] .colab-df-quickchart {\n",
              "    background-color: #3B4455;\n",
              "    fill: #D2E3FC;\n",
              "  }\n",
              "\n",
              "  [theme=dark] .colab-df-quickchart:hover {\n",
              "    background-color: #434B5C;\n",
              "    box-shadow: 0px 1px 3px 1px rgba(0, 0, 0, 0.15);\n",
              "    filter: drop-shadow(0px 1px 2px rgba(0, 0, 0, 0.3));\n",
              "    fill: #FFFFFF;\n",
              "  }\n",
              "</style>\n",
              "\n",
              "    <script>\n",
              "      async function quickchart(key) {\n",
              "        const containerElement = document.querySelector('#' + key);\n",
              "        const charts = await google.colab.kernel.invokeFunction(\n",
              "            'suggestCharts', [key], {});\n",
              "      }\n",
              "    </script>\n",
              "\n",
              "      <script>\n",
              "\n",
              "function displayQuickchartButton(domScope) {\n",
              "  let quickchartButtonEl =\n",
              "    domScope.querySelector('#df-e5b38c24-5059-4ef5-822a-9a5f76267398 button.colab-df-quickchart');\n",
              "  quickchartButtonEl.style.display =\n",
              "    google.colab.kernel.accessAllowed ? 'block' : 'none';\n",
              "}\n",
              "\n",
              "        displayQuickchartButton(document);\n",
              "      </script>\n",
              "      <style>\n",
              "    .colab-df-container {\n",
              "      display:flex;\n",
              "      flex-wrap:wrap;\n",
              "      gap: 12px;\n",
              "    }\n",
              "\n",
              "    .colab-df-convert {\n",
              "      background-color: #E8F0FE;\n",
              "      border: none;\n",
              "      border-radius: 50%;\n",
              "      cursor: pointer;\n",
              "      display: none;\n",
              "      fill: #1967D2;\n",
              "      height: 32px;\n",
              "      padding: 0 0 0 0;\n",
              "      width: 32px;\n",
              "    }\n",
              "\n",
              "    .colab-df-convert:hover {\n",
              "      background-color: #E2EBFA;\n",
              "      box-shadow: 0px 1px 2px rgba(60, 64, 67, 0.3), 0px 1px 3px 1px rgba(60, 64, 67, 0.15);\n",
              "      fill: #174EA6;\n",
              "    }\n",
              "\n",
              "    [theme=dark] .colab-df-convert {\n",
              "      background-color: #3B4455;\n",
              "      fill: #D2E3FC;\n",
              "    }\n",
              "\n",
              "    [theme=dark] .colab-df-convert:hover {\n",
              "      background-color: #434B5C;\n",
              "      box-shadow: 0px 1px 3px 1px rgba(0, 0, 0, 0.15);\n",
              "      filter: drop-shadow(0px 1px 2px rgba(0, 0, 0, 0.3));\n",
              "      fill: #FFFFFF;\n",
              "    }\n",
              "  </style>\n",
              "\n",
              "      <script>\n",
              "        const buttonEl =\n",
              "          document.querySelector('#df-b710823b-000a-47ca-8ab3-013412b65f0e button.colab-df-convert');\n",
              "        buttonEl.style.display =\n",
              "          google.colab.kernel.accessAllowed ? 'block' : 'none';\n",
              "\n",
              "        async function convertToInteractive(key) {\n",
              "          const element = document.querySelector('#df-b710823b-000a-47ca-8ab3-013412b65f0e');\n",
              "          const dataTable =\n",
              "            await google.colab.kernel.invokeFunction('convertToInteractive',\n",
              "                                                     [key], {});\n",
              "          if (!dataTable) return;\n",
              "\n",
              "          const docLinkHtml = 'Like what you see? Visit the ' +\n",
              "            '<a target=\"_blank\" href=https://colab.research.google.com/notebooks/data_table.ipynb>data table notebook</a>'\n",
              "            + ' to learn more about interactive tables.';\n",
              "          element.innerHTML = '';\n",
              "          dataTable['output_type'] = 'display_data';\n",
              "          await google.colab.output.renderOutput(dataTable, element);\n",
              "          const docLink = document.createElement('div');\n",
              "          docLink.innerHTML = docLinkHtml;\n",
              "          element.appendChild(docLink);\n",
              "        }\n",
              "      </script>\n",
              "    </div>\n",
              "  </div>\n"
            ]
          },
          "metadata": {},
          "execution_count": 30
        }
      ]
    },
    {
      "cell_type": "code",
      "source": [
        "data_rice.drop([\"Entity\"],axis=1,inplace=True)\n",
        "data_rice=data_rice.rename(columns={'Rice | 00000027 || Production | 005510 || tonnes':\"rice\"})"
      ],
      "metadata": {
        "id": "vlKoaD7rBxK9"
      },
      "execution_count": null,
      "outputs": []
    },
    {
      "cell_type": "code",
      "source": [
        "data_soybean.head()"
      ],
      "metadata": {
        "colab": {
          "base_uri": "https://localhost:8080/",
          "height": 206
        },
        "id": "uUw4KF4QBxNc",
        "outputId": "f7bb8669-8d66-4c7f-8c01-fe9d2f5ca576"
      },
      "execution_count": null,
      "outputs": [
        {
          "output_type": "execute_result",
          "data": {
            "text/plain": [
              "   Entity Code  Year  Soybeans | 00000236 || Production | 005510 || tonnes\n",
              "0  Africa  NaN  1961                                            71813.0   \n",
              "1  Africa  NaN  1962                                            84594.0   \n",
              "2  Africa  NaN  1963                                            87260.0   \n",
              "3  Africa  NaN  1964                                            76781.0   \n",
              "4  Africa  NaN  1965                                            73067.0   "
            ],
            "text/html": [
              "\n",
              "\n",
              "  <div id=\"df-ba598a5e-4205-401f-a98e-6a93172941ab\">\n",
              "    <div class=\"colab-df-container\">\n",
              "      <div>\n",
              "<style scoped>\n",
              "    .dataframe tbody tr th:only-of-type {\n",
              "        vertical-align: middle;\n",
              "    }\n",
              "\n",
              "    .dataframe tbody tr th {\n",
              "        vertical-align: top;\n",
              "    }\n",
              "\n",
              "    .dataframe thead th {\n",
              "        text-align: right;\n",
              "    }\n",
              "</style>\n",
              "<table border=\"1\" class=\"dataframe\">\n",
              "  <thead>\n",
              "    <tr style=\"text-align: right;\">\n",
              "      <th></th>\n",
              "      <th>Entity</th>\n",
              "      <th>Code</th>\n",
              "      <th>Year</th>\n",
              "      <th>Soybeans | 00000236 || Production | 005510 || tonnes</th>\n",
              "    </tr>\n",
              "  </thead>\n",
              "  <tbody>\n",
              "    <tr>\n",
              "      <th>0</th>\n",
              "      <td>Africa</td>\n",
              "      <td>NaN</td>\n",
              "      <td>1961</td>\n",
              "      <td>71813.0</td>\n",
              "    </tr>\n",
              "    <tr>\n",
              "      <th>1</th>\n",
              "      <td>Africa</td>\n",
              "      <td>NaN</td>\n",
              "      <td>1962</td>\n",
              "      <td>84594.0</td>\n",
              "    </tr>\n",
              "    <tr>\n",
              "      <th>2</th>\n",
              "      <td>Africa</td>\n",
              "      <td>NaN</td>\n",
              "      <td>1963</td>\n",
              "      <td>87260.0</td>\n",
              "    </tr>\n",
              "    <tr>\n",
              "      <th>3</th>\n",
              "      <td>Africa</td>\n",
              "      <td>NaN</td>\n",
              "      <td>1964</td>\n",
              "      <td>76781.0</td>\n",
              "    </tr>\n",
              "    <tr>\n",
              "      <th>4</th>\n",
              "      <td>Africa</td>\n",
              "      <td>NaN</td>\n",
              "      <td>1965</td>\n",
              "      <td>73067.0</td>\n",
              "    </tr>\n",
              "  </tbody>\n",
              "</table>\n",
              "</div>\n",
              "      <button class=\"colab-df-convert\" onclick=\"convertToInteractive('df-ba598a5e-4205-401f-a98e-6a93172941ab')\"\n",
              "              title=\"Convert this dataframe to an interactive table.\"\n",
              "              style=\"display:none;\">\n",
              "\n",
              "  <svg xmlns=\"http://www.w3.org/2000/svg\" height=\"24px\"viewBox=\"0 0 24 24\"\n",
              "       width=\"24px\">\n",
              "    <path d=\"M0 0h24v24H0V0z\" fill=\"none\"/>\n",
              "    <path d=\"M18.56 5.44l.94 2.06.94-2.06 2.06-.94-2.06-.94-.94-2.06-.94 2.06-2.06.94zm-11 1L8.5 8.5l.94-2.06 2.06-.94-2.06-.94L8.5 2.5l-.94 2.06-2.06.94zm10 10l.94 2.06.94-2.06 2.06-.94-2.06-.94-.94-2.06-.94 2.06-2.06.94z\"/><path d=\"M17.41 7.96l-1.37-1.37c-.4-.4-.92-.59-1.43-.59-.52 0-1.04.2-1.43.59L10.3 9.45l-7.72 7.72c-.78.78-.78 2.05 0 2.83L4 21.41c.39.39.9.59 1.41.59.51 0 1.02-.2 1.41-.59l7.78-7.78 2.81-2.81c.8-.78.8-2.07 0-2.86zM5.41 20L4 18.59l7.72-7.72 1.47 1.35L5.41 20z\"/>\n",
              "  </svg>\n",
              "      </button>\n",
              "\n",
              "\n",
              "\n",
              "    <div id=\"df-57db5f17-6e05-4d1f-bac8-8a12c2a3236f\">\n",
              "      <button class=\"colab-df-quickchart\" onclick=\"quickchart('df-57db5f17-6e05-4d1f-bac8-8a12c2a3236f')\"\n",
              "              title=\"Suggest charts.\"\n",
              "              style=\"display:none;\">\n",
              "\n",
              "<svg xmlns=\"http://www.w3.org/2000/svg\" height=\"24px\"viewBox=\"0 0 24 24\"\n",
              "     width=\"24px\">\n",
              "    <g>\n",
              "        <path d=\"M19 3H5c-1.1 0-2 .9-2 2v14c0 1.1.9 2 2 2h14c1.1 0 2-.9 2-2V5c0-1.1-.9-2-2-2zM9 17H7v-7h2v7zm4 0h-2V7h2v10zm4 0h-2v-4h2v4z\"/>\n",
              "    </g>\n",
              "</svg>\n",
              "      </button>\n",
              "    </div>\n",
              "\n",
              "<style>\n",
              "  .colab-df-quickchart {\n",
              "    background-color: #E8F0FE;\n",
              "    border: none;\n",
              "    border-radius: 50%;\n",
              "    cursor: pointer;\n",
              "    display: none;\n",
              "    fill: #1967D2;\n",
              "    height: 32px;\n",
              "    padding: 0 0 0 0;\n",
              "    width: 32px;\n",
              "  }\n",
              "\n",
              "  .colab-df-quickchart:hover {\n",
              "    background-color: #E2EBFA;\n",
              "    box-shadow: 0px 1px 2px rgba(60, 64, 67, 0.3), 0px 1px 3px 1px rgba(60, 64, 67, 0.15);\n",
              "    fill: #174EA6;\n",
              "  }\n",
              "\n",
              "  [theme=dark] .colab-df-quickchart {\n",
              "    background-color: #3B4455;\n",
              "    fill: #D2E3FC;\n",
              "  }\n",
              "\n",
              "  [theme=dark] .colab-df-quickchart:hover {\n",
              "    background-color: #434B5C;\n",
              "    box-shadow: 0px 1px 3px 1px rgba(0, 0, 0, 0.15);\n",
              "    filter: drop-shadow(0px 1px 2px rgba(0, 0, 0, 0.3));\n",
              "    fill: #FFFFFF;\n",
              "  }\n",
              "</style>\n",
              "\n",
              "    <script>\n",
              "      async function quickchart(key) {\n",
              "        const containerElement = document.querySelector('#' + key);\n",
              "        const charts = await google.colab.kernel.invokeFunction(\n",
              "            'suggestCharts', [key], {});\n",
              "      }\n",
              "    </script>\n",
              "\n",
              "      <script>\n",
              "\n",
              "function displayQuickchartButton(domScope) {\n",
              "  let quickchartButtonEl =\n",
              "    domScope.querySelector('#df-57db5f17-6e05-4d1f-bac8-8a12c2a3236f button.colab-df-quickchart');\n",
              "  quickchartButtonEl.style.display =\n",
              "    google.colab.kernel.accessAllowed ? 'block' : 'none';\n",
              "}\n",
              "\n",
              "        displayQuickchartButton(document);\n",
              "      </script>\n",
              "      <style>\n",
              "    .colab-df-container {\n",
              "      display:flex;\n",
              "      flex-wrap:wrap;\n",
              "      gap: 12px;\n",
              "    }\n",
              "\n",
              "    .colab-df-convert {\n",
              "      background-color: #E8F0FE;\n",
              "      border: none;\n",
              "      border-radius: 50%;\n",
              "      cursor: pointer;\n",
              "      display: none;\n",
              "      fill: #1967D2;\n",
              "      height: 32px;\n",
              "      padding: 0 0 0 0;\n",
              "      width: 32px;\n",
              "    }\n",
              "\n",
              "    .colab-df-convert:hover {\n",
              "      background-color: #E2EBFA;\n",
              "      box-shadow: 0px 1px 2px rgba(60, 64, 67, 0.3), 0px 1px 3px 1px rgba(60, 64, 67, 0.15);\n",
              "      fill: #174EA6;\n",
              "    }\n",
              "\n",
              "    [theme=dark] .colab-df-convert {\n",
              "      background-color: #3B4455;\n",
              "      fill: #D2E3FC;\n",
              "    }\n",
              "\n",
              "    [theme=dark] .colab-df-convert:hover {\n",
              "      background-color: #434B5C;\n",
              "      box-shadow: 0px 1px 3px 1px rgba(0, 0, 0, 0.15);\n",
              "      filter: drop-shadow(0px 1px 2px rgba(0, 0, 0, 0.3));\n",
              "      fill: #FFFFFF;\n",
              "    }\n",
              "  </style>\n",
              "\n",
              "      <script>\n",
              "        const buttonEl =\n",
              "          document.querySelector('#df-ba598a5e-4205-401f-a98e-6a93172941ab button.colab-df-convert');\n",
              "        buttonEl.style.display =\n",
              "          google.colab.kernel.accessAllowed ? 'block' : 'none';\n",
              "\n",
              "        async function convertToInteractive(key) {\n",
              "          const element = document.querySelector('#df-ba598a5e-4205-401f-a98e-6a93172941ab');\n",
              "          const dataTable =\n",
              "            await google.colab.kernel.invokeFunction('convertToInteractive',\n",
              "                                                     [key], {});\n",
              "          if (!dataTable) return;\n",
              "\n",
              "          const docLinkHtml = 'Like what you see? Visit the ' +\n",
              "            '<a target=\"_blank\" href=https://colab.research.google.com/notebooks/data_table.ipynb>data table notebook</a>'\n",
              "            + ' to learn more about interactive tables.';\n",
              "          element.innerHTML = '';\n",
              "          dataTable['output_type'] = 'display_data';\n",
              "          await google.colab.output.renderOutput(dataTable, element);\n",
              "          const docLink = document.createElement('div');\n",
              "          docLink.innerHTML = docLinkHtml;\n",
              "          element.appendChild(docLink);\n",
              "        }\n",
              "      </script>\n",
              "    </div>\n",
              "  </div>\n"
            ]
          },
          "metadata": {},
          "execution_count": 32
        }
      ]
    },
    {
      "cell_type": "code",
      "source": [
        "data_soybean.drop([\"Entity\"],axis=1,inplace=True)\n",
        "data_soybean=data_soybean.rename(columns={'Soybeans | 00000236 || Production | 005510 || tonnes':\"soybean\"})\n",
        "data_soybean.isna().sum()"
      ],
      "metadata": {
        "colab": {
          "base_uri": "https://localhost:8080/"
        },
        "id": "vKhWuFshBxQC",
        "outputId": "b23771f3-f999-41c1-c0bd-7306b9a4e585"
      },
      "execution_count": null,
      "outputs": [
        {
          "output_type": "execute_result",
          "data": {
            "text/plain": [
              "Code       2336\n",
              "Year          0\n",
              "soybean       0\n",
              "dtype: int64"
            ]
          },
          "metadata": {},
          "execution_count": 33
        }
      ]
    },
    {
      "cell_type": "code",
      "source": [
        "data_maize.tail()"
      ],
      "metadata": {
        "colab": {
          "base_uri": "https://localhost:8080/",
          "height": 206
        },
        "id": "uliA7Qx_BxRm",
        "outputId": "bb83f515-6049-451a-e747-8027fdd43d3c"
      },
      "execution_count": null,
      "outputs": [
        {
          "output_type": "execute_result",
          "data": {
            "text/plain": [
              "         Entity Code  Year  Maize | 00000056 || Production | 005510 || tonnes\n",
              "11907  Zimbabwe  ZWE  2017                                          1532572.0\n",
              "11908  Zimbabwe  ZWE  2018                                          1560100.0\n",
              "11909  Zimbabwe  ZWE  2019                                           773976.0\n",
              "11910  Zimbabwe  ZWE  2020                                          1202347.0\n",
              "11911  Zimbabwe  ZWE  2021                                          1469664.0"
            ],
            "text/html": [
              "\n",
              "\n",
              "  <div id=\"df-536d6d8f-47f8-4e5b-8511-7cb3b3484654\">\n",
              "    <div class=\"colab-df-container\">\n",
              "      <div>\n",
              "<style scoped>\n",
              "    .dataframe tbody tr th:only-of-type {\n",
              "        vertical-align: middle;\n",
              "    }\n",
              "\n",
              "    .dataframe tbody tr th {\n",
              "        vertical-align: top;\n",
              "    }\n",
              "\n",
              "    .dataframe thead th {\n",
              "        text-align: right;\n",
              "    }\n",
              "</style>\n",
              "<table border=\"1\" class=\"dataframe\">\n",
              "  <thead>\n",
              "    <tr style=\"text-align: right;\">\n",
              "      <th></th>\n",
              "      <th>Entity</th>\n",
              "      <th>Code</th>\n",
              "      <th>Year</th>\n",
              "      <th>Maize | 00000056 || Production | 005510 || tonnes</th>\n",
              "    </tr>\n",
              "  </thead>\n",
              "  <tbody>\n",
              "    <tr>\n",
              "      <th>11907</th>\n",
              "      <td>Zimbabwe</td>\n",
              "      <td>ZWE</td>\n",
              "      <td>2017</td>\n",
              "      <td>1532572.0</td>\n",
              "    </tr>\n",
              "    <tr>\n",
              "      <th>11908</th>\n",
              "      <td>Zimbabwe</td>\n",
              "      <td>ZWE</td>\n",
              "      <td>2018</td>\n",
              "      <td>1560100.0</td>\n",
              "    </tr>\n",
              "    <tr>\n",
              "      <th>11909</th>\n",
              "      <td>Zimbabwe</td>\n",
              "      <td>ZWE</td>\n",
              "      <td>2019</td>\n",
              "      <td>773976.0</td>\n",
              "    </tr>\n",
              "    <tr>\n",
              "      <th>11910</th>\n",
              "      <td>Zimbabwe</td>\n",
              "      <td>ZWE</td>\n",
              "      <td>2020</td>\n",
              "      <td>1202347.0</td>\n",
              "    </tr>\n",
              "    <tr>\n",
              "      <th>11911</th>\n",
              "      <td>Zimbabwe</td>\n",
              "      <td>ZWE</td>\n",
              "      <td>2021</td>\n",
              "      <td>1469664.0</td>\n",
              "    </tr>\n",
              "  </tbody>\n",
              "</table>\n",
              "</div>\n",
              "      <button class=\"colab-df-convert\" onclick=\"convertToInteractive('df-536d6d8f-47f8-4e5b-8511-7cb3b3484654')\"\n",
              "              title=\"Convert this dataframe to an interactive table.\"\n",
              "              style=\"display:none;\">\n",
              "\n",
              "  <svg xmlns=\"http://www.w3.org/2000/svg\" height=\"24px\"viewBox=\"0 0 24 24\"\n",
              "       width=\"24px\">\n",
              "    <path d=\"M0 0h24v24H0V0z\" fill=\"none\"/>\n",
              "    <path d=\"M18.56 5.44l.94 2.06.94-2.06 2.06-.94-2.06-.94-.94-2.06-.94 2.06-2.06.94zm-11 1L8.5 8.5l.94-2.06 2.06-.94-2.06-.94L8.5 2.5l-.94 2.06-2.06.94zm10 10l.94 2.06.94-2.06 2.06-.94-2.06-.94-.94-2.06-.94 2.06-2.06.94z\"/><path d=\"M17.41 7.96l-1.37-1.37c-.4-.4-.92-.59-1.43-.59-.52 0-1.04.2-1.43.59L10.3 9.45l-7.72 7.72c-.78.78-.78 2.05 0 2.83L4 21.41c.39.39.9.59 1.41.59.51 0 1.02-.2 1.41-.59l7.78-7.78 2.81-2.81c.8-.78.8-2.07 0-2.86zM5.41 20L4 18.59l7.72-7.72 1.47 1.35L5.41 20z\"/>\n",
              "  </svg>\n",
              "      </button>\n",
              "\n",
              "\n",
              "\n",
              "    <div id=\"df-193141ea-87ab-475e-859c-84728e804874\">\n",
              "      <button class=\"colab-df-quickchart\" onclick=\"quickchart('df-193141ea-87ab-475e-859c-84728e804874')\"\n",
              "              title=\"Suggest charts.\"\n",
              "              style=\"display:none;\">\n",
              "\n",
              "<svg xmlns=\"http://www.w3.org/2000/svg\" height=\"24px\"viewBox=\"0 0 24 24\"\n",
              "     width=\"24px\">\n",
              "    <g>\n",
              "        <path d=\"M19 3H5c-1.1 0-2 .9-2 2v14c0 1.1.9 2 2 2h14c1.1 0 2-.9 2-2V5c0-1.1-.9-2-2-2zM9 17H7v-7h2v7zm4 0h-2V7h2v10zm4 0h-2v-4h2v4z\"/>\n",
              "    </g>\n",
              "</svg>\n",
              "      </button>\n",
              "    </div>\n",
              "\n",
              "<style>\n",
              "  .colab-df-quickchart {\n",
              "    background-color: #E8F0FE;\n",
              "    border: none;\n",
              "    border-radius: 50%;\n",
              "    cursor: pointer;\n",
              "    display: none;\n",
              "    fill: #1967D2;\n",
              "    height: 32px;\n",
              "    padding: 0 0 0 0;\n",
              "    width: 32px;\n",
              "  }\n",
              "\n",
              "  .colab-df-quickchart:hover {\n",
              "    background-color: #E2EBFA;\n",
              "    box-shadow: 0px 1px 2px rgba(60, 64, 67, 0.3), 0px 1px 3px 1px rgba(60, 64, 67, 0.15);\n",
              "    fill: #174EA6;\n",
              "  }\n",
              "\n",
              "  [theme=dark] .colab-df-quickchart {\n",
              "    background-color: #3B4455;\n",
              "    fill: #D2E3FC;\n",
              "  }\n",
              "\n",
              "  [theme=dark] .colab-df-quickchart:hover {\n",
              "    background-color: #434B5C;\n",
              "    box-shadow: 0px 1px 3px 1px rgba(0, 0, 0, 0.15);\n",
              "    filter: drop-shadow(0px 1px 2px rgba(0, 0, 0, 0.3));\n",
              "    fill: #FFFFFF;\n",
              "  }\n",
              "</style>\n",
              "\n",
              "    <script>\n",
              "      async function quickchart(key) {\n",
              "        const containerElement = document.querySelector('#' + key);\n",
              "        const charts = await google.colab.kernel.invokeFunction(\n",
              "            'suggestCharts', [key], {});\n",
              "      }\n",
              "    </script>\n",
              "\n",
              "      <script>\n",
              "\n",
              "function displayQuickchartButton(domScope) {\n",
              "  let quickchartButtonEl =\n",
              "    domScope.querySelector('#df-193141ea-87ab-475e-859c-84728e804874 button.colab-df-quickchart');\n",
              "  quickchartButtonEl.style.display =\n",
              "    google.colab.kernel.accessAllowed ? 'block' : 'none';\n",
              "}\n",
              "\n",
              "        displayQuickchartButton(document);\n",
              "      </script>\n",
              "      <style>\n",
              "    .colab-df-container {\n",
              "      display:flex;\n",
              "      flex-wrap:wrap;\n",
              "      gap: 12px;\n",
              "    }\n",
              "\n",
              "    .colab-df-convert {\n",
              "      background-color: #E8F0FE;\n",
              "      border: none;\n",
              "      border-radius: 50%;\n",
              "      cursor: pointer;\n",
              "      display: none;\n",
              "      fill: #1967D2;\n",
              "      height: 32px;\n",
              "      padding: 0 0 0 0;\n",
              "      width: 32px;\n",
              "    }\n",
              "\n",
              "    .colab-df-convert:hover {\n",
              "      background-color: #E2EBFA;\n",
              "      box-shadow: 0px 1px 2px rgba(60, 64, 67, 0.3), 0px 1px 3px 1px rgba(60, 64, 67, 0.15);\n",
              "      fill: #174EA6;\n",
              "    }\n",
              "\n",
              "    [theme=dark] .colab-df-convert {\n",
              "      background-color: #3B4455;\n",
              "      fill: #D2E3FC;\n",
              "    }\n",
              "\n",
              "    [theme=dark] .colab-df-convert:hover {\n",
              "      background-color: #434B5C;\n",
              "      box-shadow: 0px 1px 3px 1px rgba(0, 0, 0, 0.15);\n",
              "      filter: drop-shadow(0px 1px 2px rgba(0, 0, 0, 0.3));\n",
              "      fill: #FFFFFF;\n",
              "    }\n",
              "  </style>\n",
              "\n",
              "      <script>\n",
              "        const buttonEl =\n",
              "          document.querySelector('#df-536d6d8f-47f8-4e5b-8511-7cb3b3484654 button.colab-df-convert');\n",
              "        buttonEl.style.display =\n",
              "          google.colab.kernel.accessAllowed ? 'block' : 'none';\n",
              "\n",
              "        async function convertToInteractive(key) {\n",
              "          const element = document.querySelector('#df-536d6d8f-47f8-4e5b-8511-7cb3b3484654');\n",
              "          const dataTable =\n",
              "            await google.colab.kernel.invokeFunction('convertToInteractive',\n",
              "                                                     [key], {});\n",
              "          if (!dataTable) return;\n",
              "\n",
              "          const docLinkHtml = 'Like what you see? Visit the ' +\n",
              "            '<a target=\"_blank\" href=https://colab.research.google.com/notebooks/data_table.ipynb>data table notebook</a>'\n",
              "            + ' to learn more about interactive tables.';\n",
              "          element.innerHTML = '';\n",
              "          dataTable['output_type'] = 'display_data';\n",
              "          await google.colab.output.renderOutput(dataTable, element);\n",
              "          const docLink = document.createElement('div');\n",
              "          docLink.innerHTML = docLinkHtml;\n",
              "          element.appendChild(docLink);\n",
              "        }\n",
              "      </script>\n",
              "    </div>\n",
              "  </div>\n"
            ]
          },
          "metadata": {},
          "execution_count": 34
        }
      ]
    },
    {
      "cell_type": "code",
      "source": [
        "data_maize.drop([\"Entity\"],axis=1,inplace=True)\n",
        "data_maize=data_maize.rename(columns={'Maize | 00000056 || Production | 005510 || tonnes':\"maize\"})\n",
        "data_maize.isna().sum()"
      ],
      "metadata": {
        "colab": {
          "base_uri": "https://localhost:8080/"
        },
        "id": "QEdS4SgeCGjY",
        "outputId": "d822ae62-6bf9-420c-a120-d9ab32eee6b2"
      },
      "execution_count": null,
      "outputs": [
        {
          "output_type": "execute_result",
          "data": {
            "text/plain": [
              "Code     2571\n",
              "Year        0\n",
              "maize       0\n",
              "dtype: int64"
            ]
          },
          "metadata": {},
          "execution_count": 35
        }
      ]
    },
    {
      "cell_type": "markdown",
      "source": [
        "# Checking for country codes"
      ],
      "metadata": {
        "id": "VTRpFKrWCLQv"
      }
    },
    {
      "cell_type": "code",
      "source": [
        "df_flat_disaster=removeDataWithoutCode(df_flat_disaster, \"Code\")\n",
        "data_K=removeDataWithoutCode(data_K,\"Code\")\n",
        "data_pesticide=removeDataWithoutCode(data_pesticide,\"Code\")\n",
        "data_p=removeDataWithoutCode(data_P,\"Code\")\n",
        "data_N=removeDataWithoutCode(data_N,\"Code\")\n",
        "data_maize=removeDataWithoutCode(data_maize,\"Code\")\n",
        "data_wheat=removeDataWithoutCode(data_wheat,\"Code\")\n",
        "data_rice=removeDataWithoutCode(data_rice,\"Code\")\n",
        "data_soybean=removeDataWithoutCode(data_soybean,\"Code\")\n",
        "data_arable=removeDataWithoutCode(data_arable,\"Code\")"
      ],
      "metadata": {
        "id": "GmkEdRWXCMa6"
      },
      "execution_count": null,
      "outputs": []
    },
    {
      "cell_type": "markdown",
      "source": [
        "# Triming accordingly. Every dataset have year(1980 to 2021) hence including only these years"
      ],
      "metadata": {
        "id": "k80VpJ8mCSp8"
      }
    },
    {
      "cell_type": "code",
      "source": [
        "df_temp_trim=trimDataFrame(df_temp_country, 1980,2021)\n",
        "df_co2_trim=trimDataFrame(df_co2_, 1980,2021)\n",
        "df_disaster_trim=trimDataFrame(df_flat_disaster, 1980,2021)\n",
        "data_K_trim=trimDataFrame(data_K, 1980,2021)\n",
        "data_pesticide_trim=trimDataFrame(data_pesticide, 1980,2021)\n",
        "data_p_trim=trimDataFrame(data_P, 1980,2021)\n",
        "data_N_trim=trimDataFrame(data_N, 1980,2021)\n",
        "data_maize_trim=trimDataFrame(data_maize, 1980,2021)\n",
        "data_wheat_trim=trimDataFrame(data_wheat, 1980,2021)\n",
        "data_rice_trim=trimDataFrame(data_rice, 1980,2021)\n",
        "data_soybean_trim=trimDataFrame(data_soybean, 1980,2021)\n",
        "data_arable_trim=trimDataFrame(data_arable, 1980,2021)"
      ],
      "metadata": {
        "id": "JbnyFI3_CPCj"
      },
      "execution_count": null,
      "outputs": []
    },
    {
      "cell_type": "markdown",
      "source": [
        "# Data Amalgamation (on Country code and year)"
      ],
      "metadata": {
        "id": "3v7uwKDnGcLs"
      }
    },
    {
      "cell_type": "code",
      "source": [
        "#data_temp_trim['Year']=data_temp_trim['Year'].astype(int);\n",
        "#data_co2_trim['Year']=data_co2_trim['Year'].astype(int);\n",
        "#df_flattened['Year']=df_flattened['Year'].astype(int);\n",
        "data = pd.merge(df_temp_trim, df_co2_trim, on=['Year','Code'])\n",
        "data = pd.merge(df_disaster_trim, data, on=['Year','Code'])\n",
        "data = pd.merge(data_K_trim, data, on=['Year','Code'])\n",
        "data = pd.merge(data_p_trim, data, on=['Year','Code'])\n",
        "data = pd.merge(data_N_trim, data, on=['Year','Code'])\n",
        "data = pd.merge(data_arable_trim, data, on=['Year','Code'])\n",
        "data = pd.merge(data_pesticide_trim, data, on=['Year','Code'])\n"
      ],
      "metadata": {
        "id": "-tbEbGx9CGpE"
      },
      "execution_count": null,
      "outputs": []
    },
    {
      "cell_type": "code",
      "source": [
        "fig, ax = plt.subplots(1, 1, figsize=(15, 9))\n",
        "sns.heatmap(data.corr(), annot=True,cmap='viridis')\n",
        "ax.set(xlabel='features')\n",
        "ax.set(ylabel='features')\n",
        "\n",
        "plt.title('Correlation between different features', fontsize = 15, c='black')\n",
        "plt.show()"
      ],
      "metadata": {
        "colab": {
          "base_uri": "https://localhost:8080/",
          "height": 933
        },
        "id": "_xeVWob4UIlg",
        "outputId": "0f4bb04b-9673-46bb-ba6a-98b4e271a0aa"
      },
      "execution_count": null,
      "outputs": [
        {
          "output_type": "display_data",
          "data": {
            "text/plain": [
              "<Figure size 1500x900 with 2 Axes>"
            ],
            "image/png": "[encoded data removed]"
          },
          "metadata": {}
        }
      ]
    },
    {
      "cell_type": "markdown",
      "source": [
        "### From above heat map we don't see any significat correlation between parameters. Hence we will be retaining all the parameter for preparing the models.\n",
        "\n",
        "Note: Threshold for considering any parmeters correlated is taken as 0.80."
      ],
      "metadata": {
        "id": "ujM9M5X_Ucz7"
      }
    },
    {
      "cell_type": "code",
      "source": [
        "wheat= pd.merge(data_wheat_trim, data, on=['Year','Code'])\n",
        "rice= pd.merge(data_rice_trim, data, on=['Year','Code'])\n",
        "soybean= pd.merge(data_soybean_trim, data, on=['Year','Code'])\n",
        "maize= pd.merge(data_maize_trim, data, on=['Year','Code'])"
      ],
      "metadata": {
        "id": "rPFSd1XpCGrp"
      },
      "execution_count": null,
      "outputs": []
    },
    {
      "cell_type": "markdown",
      "source": [
        "# Imputing missing values in temperature data from missing tempearture dataset."
      ],
      "metadata": {
        "id": "6mlyL7Ke_1k_"
      }
    },
    {
      "cell_type": "code",
      "source": [
        "\n",
        "def replace_temp(df):\n",
        "  ind=df.loc[pd.isnull(df).any(1), :].index.values\n",
        "  for i in ind:\n",
        "    year=(df.loc[i])[\"Year\"]\n",
        "    code=(df.loc[i])[\"Code\"]\n",
        "    t=missing_temp[(missing_temp[\"Code\"]==code)]\n",
        "    t=t[t[\"Year\"]==year]\n",
        "\n",
        "    df.loc[i, \"temp_change\"]=float(t[\"change_in_temp\"])\n",
        "  return df\n"
      ],
      "metadata": {
        "id": "HznyxJxLIAgd"
      },
      "execution_count": null,
      "outputs": []
    },
    {
      "cell_type": "code",
      "source": [
        "wheat.info()\n",
        "wheat.isna().sum()\n",
        "\n"
      ],
      "metadata": {
        "colab": {
          "base_uri": "https://localhost:8080/"
        },
        "id": "F67sRpR7CGuI",
        "outputId": "89740846-ad39-407f-ad63-9023b6e8f7fa"
      },
      "execution_count": null,
      "outputs": [
        {
          "output_type": "stream",
          "name": "stdout",
          "text": [
            "<class 'pandas.core.frame.DataFrame'>\n",
            "Int64Index: 4062 entries, 0 to 4061\n",
            "Data columns (total 16 columns):\n",
            " #   Column               Non-Null Count  Dtype  \n",
            "---  ------               --------------  -----  \n",
            " 0   Code                 4062 non-null   object \n",
            " 1   Year                 4062 non-null   int64  \n",
            " 2   wheat                4062 non-null   float64\n",
            " 3   pesticide_use        4062 non-null   float64\n",
            " 4   arable_land          4062 non-null   float64\n",
            " 5   N_content            4062 non-null   float64\n",
            " 6   P_content            4062 non-null   float64\n",
            " 7   K_content            4062 non-null   float64\n",
            " 8   Drought              4062 non-null   int64  \n",
            " 9   Extreme temperature  4062 non-null   int64  \n",
            " 10  Flood                4062 non-null   int64  \n",
            " 11  Landslide            4062 non-null   int64  \n",
            " 12  Storm                4062 non-null   int64  \n",
            " 13  Wildfire             4062 non-null   int64  \n",
            " 14  temp_change          3982 non-null   float64\n",
            " 15  CO2                  4062 non-null   float64\n",
            "dtypes: float64(8), int64(7), object(1)\n",
            "memory usage: 539.5+ KB\n"
          ]
        },
        {
          "output_type": "execute_result",
          "data": {
            "text/plain": [
              "Code                    0\n",
              "Year                    0\n",
              "wheat                   0\n",
              "pesticide_use           0\n",
              "arable_land             0\n",
              "N_content               0\n",
              "P_content               0\n",
              "K_content               0\n",
              "Drought                 0\n",
              "Extreme temperature     0\n",
              "Flood                   0\n",
              "Landslide               0\n",
              "Storm                   0\n",
              "Wildfire                0\n",
              "temp_change            80\n",
              "CO2                     0\n",
              "dtype: int64"
            ]
          },
          "metadata": {},
          "execution_count": 42
        }
      ]
    },
    {
      "cell_type": "code",
      "source": [
        "wheat=replace_temp(wheat)\n",
        "wheat.isna().sum()"
      ],
      "metadata": {
        "colab": {
          "base_uri": "https://localhost:8080/"
        },
        "id": "TEsRk_SeONFg",
        "outputId": "800f57a9-7bdf-481e-f0e1-699a4ae3e436"
      },
      "execution_count": null,
      "outputs": [
        {
          "output_type": "execute_result",
          "data": {
            "text/plain": [
              "Code                   0\n",
              "Year                   0\n",
              "wheat                  0\n",
              "pesticide_use          0\n",
              "arable_land            0\n",
              "N_content              0\n",
              "P_content              0\n",
              "K_content              0\n",
              "Drought                0\n",
              "Extreme temperature    0\n",
              "Flood                  0\n",
              "Landslide              0\n",
              "Storm                  0\n",
              "Wildfire               0\n",
              "temp_change            0\n",
              "CO2                    0\n",
              "dtype: int64"
            ]
          },
          "metadata": {},
          "execution_count": 43
        }
      ]
    },
    {
      "cell_type": "code",
      "source": [
        "rice.info()\n",
        "rice.isna().sum()"
      ],
      "metadata": {
        "colab": {
          "base_uri": "https://localhost:8080/"
        },
        "id": "RaXY4mbcBxUd",
        "outputId": "a6ab1379-b733-43dd-b7e7-bcdba3e7c80a"
      },
      "execution_count": null,
      "outputs": [
        {
          "output_type": "stream",
          "name": "stdout",
          "text": [
            "<class 'pandas.core.frame.DataFrame'>\n",
            "Int64Index: 4131 entries, 0 to 4130\n",
            "Data columns (total 16 columns):\n",
            " #   Column               Non-Null Count  Dtype  \n",
            "---  ------               --------------  -----  \n",
            " 0   Code                 4131 non-null   object \n",
            " 1   Year                 4131 non-null   int64  \n",
            " 2   rice                 4131 non-null   float64\n",
            " 3   pesticide_use        4131 non-null   float64\n",
            " 4   arable_land          4131 non-null   float64\n",
            " 5   N_content            4131 non-null   float64\n",
            " 6   P_content            4131 non-null   float64\n",
            " 7   K_content            4131 non-null   float64\n",
            " 8   Drought              4131 non-null   int64  \n",
            " 9   Extreme temperature  4131 non-null   int64  \n",
            " 10  Flood                4131 non-null   int64  \n",
            " 11  Landslide            4131 non-null   int64  \n",
            " 12  Storm                4131 non-null   int64  \n",
            " 13  Wildfire             4131 non-null   int64  \n",
            " 14  temp_change          4059 non-null   float64\n",
            " 15  CO2                  4131 non-null   float64\n",
            "dtypes: float64(8), int64(7), object(1)\n",
            "memory usage: 548.6+ KB\n"
          ]
        },
        {
          "output_type": "execute_result",
          "data": {
            "text/plain": [
              "Code                    0\n",
              "Year                    0\n",
              "rice                    0\n",
              "pesticide_use           0\n",
              "arable_land             0\n",
              "N_content               0\n",
              "P_content               0\n",
              "K_content               0\n",
              "Drought                 0\n",
              "Extreme temperature     0\n",
              "Flood                   0\n",
              "Landslide               0\n",
              "Storm                   0\n",
              "Wildfire                0\n",
              "temp_change            72\n",
              "CO2                     0\n",
              "dtype: int64"
            ]
          },
          "metadata": {},
          "execution_count": 44
        }
      ]
    },
    {
      "cell_type": "code",
      "source": [
        "rice=replace_temp(rice)\n",
        "rice.isna().sum()"
      ],
      "metadata": {
        "colab": {
          "base_uri": "https://localhost:8080/"
        },
        "id": "un6orfjiOnyA",
        "outputId": "e67ea622-7f13-471e-bccf-e581f9c7d6e7"
      },
      "execution_count": null,
      "outputs": [
        {
          "output_type": "execute_result",
          "data": {
            "text/plain": [
              "Code                   0\n",
              "Year                   0\n",
              "rice                   0\n",
              "pesticide_use          0\n",
              "arable_land            0\n",
              "N_content              0\n",
              "P_content              0\n",
              "K_content              0\n",
              "Drought                0\n",
              "Extreme temperature    0\n",
              "Flood                  0\n",
              "Landslide              0\n",
              "Storm                  0\n",
              "Wildfire               0\n",
              "temp_change            0\n",
              "CO2                    0\n",
              "dtype: int64"
            ]
          },
          "metadata": {},
          "execution_count": 45
        }
      ]
    },
    {
      "cell_type": "code",
      "source": [
        "soybean.info()\n",
        "soybean.isna().sum()"
      ],
      "metadata": {
        "colab": {
          "base_uri": "https://localhost:8080/"
        },
        "id": "Nh4fT7uyGv3b",
        "outputId": "47d84cc9-b8e8-40bb-caa6-60731b9af7b3"
      },
      "execution_count": null,
      "outputs": [
        {
          "output_type": "stream",
          "name": "stdout",
          "text": [
            "<class 'pandas.core.frame.DataFrame'>\n",
            "Int64Index: 3615 entries, 0 to 3614\n",
            "Data columns (total 16 columns):\n",
            " #   Column               Non-Null Count  Dtype  \n",
            "---  ------               --------------  -----  \n",
            " 0   Code                 3615 non-null   object \n",
            " 1   Year                 3615 non-null   int64  \n",
            " 2   soybean              3615 non-null   float64\n",
            " 3   pesticide_use        3615 non-null   float64\n",
            " 4   arable_land          3615 non-null   float64\n",
            " 5   N_content            3615 non-null   float64\n",
            " 6   P_content            3615 non-null   float64\n",
            " 7   K_content            3615 non-null   float64\n",
            " 8   Drought              3615 non-null   int64  \n",
            " 9   Extreme temperature  3615 non-null   int64  \n",
            " 10  Flood                3615 non-null   int64  \n",
            " 11  Landslide            3615 non-null   int64  \n",
            " 12  Storm                3615 non-null   int64  \n",
            " 13  Wildfire             3615 non-null   int64  \n",
            " 14  temp_change          3553 non-null   float64\n",
            " 15  CO2                  3615 non-null   float64\n",
            "dtypes: float64(8), int64(7), object(1)\n",
            "memory usage: 480.1+ KB\n"
          ]
        },
        {
          "output_type": "execute_result",
          "data": {
            "text/plain": [
              "Code                    0\n",
              "Year                    0\n",
              "soybean                 0\n",
              "pesticide_use           0\n",
              "arable_land             0\n",
              "N_content               0\n",
              "P_content               0\n",
              "K_content               0\n",
              "Drought                 0\n",
              "Extreme temperature     0\n",
              "Flood                   0\n",
              "Landslide               0\n",
              "Storm                   0\n",
              "Wildfire                0\n",
              "temp_change            62\n",
              "CO2                     0\n",
              "dtype: int64"
            ]
          },
          "metadata": {},
          "execution_count": 46
        }
      ]
    },
    {
      "cell_type": "code",
      "source": [
        "soybean=replace_temp(soybean)\n",
        "soybean.isna().sum()"
      ],
      "metadata": {
        "colab": {
          "base_uri": "https://localhost:8080/"
        },
        "id": "vYiyqQpGOtZI",
        "outputId": "4867fe03-3e02-4014-c7cc-0fcd78b216f8"
      },
      "execution_count": null,
      "outputs": [
        {
          "output_type": "execute_result",
          "data": {
            "text/plain": [
              "Code                   0\n",
              "Year                   0\n",
              "soybean                0\n",
              "pesticide_use          0\n",
              "arable_land            0\n",
              "N_content              0\n",
              "P_content              0\n",
              "K_content              0\n",
              "Drought                0\n",
              "Extreme temperature    0\n",
              "Flood                  0\n",
              "Landslide              0\n",
              "Storm                  0\n",
              "Wildfire               0\n",
              "temp_change            0\n",
              "CO2                    0\n",
              "dtype: int64"
            ]
          },
          "metadata": {},
          "execution_count": 47
        }
      ]
    },
    {
      "cell_type": "code",
      "source": [
        "maize.info()\n",
        "maize.isna().sum()"
      ],
      "metadata": {
        "colab": {
          "base_uri": "https://localhost:8080/"
        },
        "id": "4dYpw6EmGv-8",
        "outputId": "5e7b7544-ffb1-4982-8384-c50470e7d94b"
      },
      "execution_count": null,
      "outputs": [
        {
          "output_type": "stream",
          "name": "stdout",
          "text": [
            "<class 'pandas.core.frame.DataFrame'>\n",
            "Int64Index: 5108 entries, 0 to 5107\n",
            "Data columns (total 16 columns):\n",
            " #   Column               Non-Null Count  Dtype  \n",
            "---  ------               --------------  -----  \n",
            " 0   Code                 5108 non-null   object \n",
            " 1   Year                 5108 non-null   int64  \n",
            " 2   maize                5108 non-null   float64\n",
            " 3   pesticide_use        5108 non-null   float64\n",
            " 4   arable_land          5108 non-null   float64\n",
            " 5   N_content            5108 non-null   float64\n",
            " 6   P_content            5108 non-null   float64\n",
            " 7   K_content            5108 non-null   float64\n",
            " 8   Drought              5108 non-null   int64  \n",
            " 9   Extreme temperature  5108 non-null   int64  \n",
            " 10  Flood                5108 non-null   int64  \n",
            " 11  Landslide            5108 non-null   int64  \n",
            " 12  Storm                5108 non-null   int64  \n",
            " 13  Wildfire             5108 non-null   int64  \n",
            " 14  temp_change          5003 non-null   float64\n",
            " 15  CO2                  5108 non-null   float64\n",
            "dtypes: float64(8), int64(7), object(1)\n",
            "memory usage: 678.4+ KB\n"
          ]
        },
        {
          "output_type": "execute_result",
          "data": {
            "text/plain": [
              "Code                     0\n",
              "Year                     0\n",
              "maize                    0\n",
              "pesticide_use            0\n",
              "arable_land              0\n",
              "N_content                0\n",
              "P_content                0\n",
              "K_content                0\n",
              "Drought                  0\n",
              "Extreme temperature      0\n",
              "Flood                    0\n",
              "Landslide                0\n",
              "Storm                    0\n",
              "Wildfire                 0\n",
              "temp_change            105\n",
              "CO2                      0\n",
              "dtype: int64"
            ]
          },
          "metadata": {},
          "execution_count": 48
        }
      ]
    },
    {
      "cell_type": "code",
      "source": [
        "maize=replace_temp(maize)\n",
        "maize.isna().sum()"
      ],
      "metadata": {
        "colab": {
          "base_uri": "https://localhost:8080/"
        },
        "id": "xcBGtrSQOzfL",
        "outputId": "ba6b6172-de8f-44e0-dda1-73c7185781d0"
      },
      "execution_count": null,
      "outputs": [
        {
          "output_type": "execute_result",
          "data": {
            "text/plain": [
              "Code                   0\n",
              "Year                   0\n",
              "maize                  0\n",
              "pesticide_use          0\n",
              "arable_land            0\n",
              "N_content              0\n",
              "P_content              0\n",
              "K_content              0\n",
              "Drought                0\n",
              "Extreme temperature    0\n",
              "Flood                  0\n",
              "Landslide              0\n",
              "Storm                  0\n",
              "Wildfire               0\n",
              "temp_change            0\n",
              "CO2                    0\n",
              "dtype: int64"
            ]
          },
          "metadata": {},
          "execution_count": 49
        }
      ]
    },
    {
      "cell_type": "code",
      "source": [
        "#missing_temp[\"Code\"].unique()"
      ],
      "metadata": {
        "id": "cwmeCOpH_eyx"
      },
      "execution_count": null,
      "outputs": []
    },
    {
      "cell_type": "code",
      "source": [
        "#r=df_temp_country.loc[pd.isnull(df_temp_country).any(1), :].index.values\n",
        "#r"
      ],
      "metadata": {
        "id": "gjIzQuoE_e1j"
      },
      "execution_count": null,
      "outputs": []
    },
    {
      "cell_type": "code",
      "source": [
        "# s=df_temp_country.loc[r]\n",
        "# s['Code'].unique()"
      ],
      "metadata": {
        "id": "NpyoKNN7_e34"
      },
      "execution_count": null,
      "outputs": []
    },
    {
      "cell_type": "markdown",
      "source": [
        "# Muller Loop\n",
        "\n",
        "#### **bold text** Running muller loop for regression for wheat, rice, soybean and maize. For this purpose we will remoce the country code and just take rest of the attribures just to find in the case of other attributes can we forecast the production of these 4 crops."
      ],
      "metadata": {
        "id": "84_G6sCYPOsi"
      }
    },
    {
      "cell_type": "code",
      "source": [
        "\n",
        "from sklearn import linear_model\n",
        "from sklearn.tree import DecisionTreeRegressor\n",
        "from sklearn.svm import SVR\n",
        "from sklearn.ensemble import RandomForestRegressor\n",
        "from sklearn.metrics import r2_score\n",
        "from sklearn.model_selection import train_test_split\n",
        "from sklearn.preprocessing import StandardScaler\n",
        "import random\n",
        "\n",
        "\n",
        "def muller_loop(df,value):\n",
        "  lst=list(df.columns)\n",
        "  lst.remove(value)\n",
        "  lst.remove(\"Code\")\n",
        "  features = df[lst]\n",
        "  label = df[[value]]\n",
        "  X,y=(features,label)\n",
        "  X = StandardScaler().fit_transform(X)\n",
        "  random.seed(10)\n",
        "  X_train, X_test, y_train, y_test = train_test_split(X, y, test_size=0.2)\n",
        "\n",
        "\n",
        "  names = [\"Multiple Linear Regression\", \"Lasso Regression\",\"Decision Tree Regressor\", \"Random Forest Regressor\"]\n",
        "# Train decision tree classifier\n",
        "  regressors = [linear_model.LinearRegression(),linear_model.Lasso(alpha=0.1),DecisionTreeRegressor(random_state=2,max_depth=5),RandomForestRegressor(max_depth=5)]\n",
        "  max_score = 0.0\n",
        "  max_class = ''\n",
        "  timetaken=[]\n",
        "  score_all=[]\n",
        "  # iterate over classifiers\n",
        "  for name, clf in zip(names, regressors):\n",
        "      start_time = time.time()\n",
        "      clf.fit(X_train, y_train)\n",
        "\n",
        "  #    accuracy =  np.mean(y_pred == y_test)100.0 *\n",
        "  #print(\"Accuracy:\", accuracy)\n",
        "      score = 100.0 * clf.score(X_test, y_test)\n",
        "      score_all.append(score)\n",
        "      timetaken.append((time.time() - start_time))\n",
        "      print('Classifier = %s, Score (test, accuracy) = %.2f,' %(name, score), 'Training time = %.2f seconds' % (time.time() - start_time))\n",
        "\n",
        "      if score > max_score:\n",
        "          clf_best = clf\n",
        "          max_score = score\n",
        "          max_class = name\n",
        "\n",
        "  print(80*'-' )\n",
        "  print('Best --> Classifier = %s, Score (test, accuracy) = %.2f' %(max_class, max_score))\n",
        "  return(names,score_all)\n",
        "\n"
      ],
      "metadata": {
        "id": "Sa8M8t4kPOMV"
      },
      "execution_count": null,
      "outputs": []
    },
    {
      "cell_type": "code",
      "source": [
        "# Comparision Plot\n",
        "def plot_comparision(names, score_all):\n",
        "  plt.figure(figsize=(20, 10))\n",
        "  plt.bar(names, score_all)\n",
        "  plt.show()\n"
      ],
      "metadata": {
        "id": "6zJJPOPiQfZG"
      },
      "execution_count": null,
      "outputs": []
    },
    {
      "cell_type": "markdown",
      "source": [
        "## Muller Loop for wheat production"
      ],
      "metadata": {
        "id": "dhB-FZiKPpJH"
      }
    },
    {
      "cell_type": "code",
      "source": [
        "names,score_all=muller_loop(wheat,\"wheat\")"
      ],
      "metadata": {
        "colab": {
          "base_uri": "https://localhost:8080/"
        },
        "id": "rZiOmUBHP2OT",
        "outputId": "3b63bd91-57b9-42e1-97b2-ef8cc47eb49e"
      },
      "execution_count": null,
      "outputs": [
        {
          "output_type": "stream",
          "name": "stdout",
          "text": [
            "Classifier = Multiple Linear Regression, Score (test, accuracy) = 78.49, Training time = 0.03 seconds\n",
            "Classifier = Lasso Regression, Score (test, accuracy) = 78.49, Training time = 0.03 seconds\n",
            "Classifier = Decision Tree Regressor, Score (test, accuracy) = 91.40, Training time = 0.05 seconds\n",
            "Classifier = Random Forest Regressor, Score (test, accuracy) = 92.05, Training time = 2.07 seconds\n",
            "--------------------------------------------------------------------------------\n",
            "Best --> Classifier = Random Forest Regressor, Score (test, accuracy) = 92.05\n"
          ]
        }
      ]
    },
    {
      "cell_type": "code",
      "source": [
        "plot_comparision(names,score_all)"
      ],
      "metadata": {
        "colab": {
          "base_uri": "https://localhost:8080/",
          "height": 688
        },
        "id": "rIcW_ekpQJJj",
        "outputId": "f8e74e3e-c3bd-4b74-862c-d3f97f26d52d"
      },
      "execution_count": null,
      "outputs": [
        {
          "output_type": "display_data",
          "data": {
            "text/plain": [
              "<Figure size 2000x1000 with 1 Axes>"
            ],
            "image/png": "[encoded data removed]"
          },
          "metadata": {}
        }
      ]
    },
    {
      "cell_type": "markdown",
      "source": [
        "## Muller Loop for rice production"
      ],
      "metadata": {
        "id": "tXbhbXx4Pudu"
      }
    },
    {
      "cell_type": "code",
      "source": [
        "names,score_all=muller_loop(rice,\"rice\")"
      ],
      "metadata": {
        "colab": {
          "base_uri": "https://localhost:8080/"
        },
        "id": "VyVwOoPZRNb6",
        "outputId": "61381e62-359d-453a-c304-9652d456c988"
      },
      "execution_count": null,
      "outputs": [
        {
          "output_type": "stream",
          "name": "stdout",
          "text": [
            "Classifier = Multiple Linear Regression, Score (test, accuracy) = 70.35, Training time = 0.04 seconds\n",
            "Classifier = Lasso Regression, Score (test, accuracy) = 70.35, Training time = 0.07 seconds\n",
            "Classifier = Decision Tree Regressor, Score (test, accuracy) = 93.79, Training time = 0.04 seconds\n",
            "Classifier = Random Forest Regressor, Score (test, accuracy) = 94.53, Training time = 2.23 seconds\n",
            "--------------------------------------------------------------------------------\n",
            "Best --> Classifier = Random Forest Regressor, Score (test, accuracy) = 94.53\n"
          ]
        }
      ]
    },
    {
      "cell_type": "code",
      "source": [
        "plot_comparision(names,score_all)"
      ],
      "metadata": {
        "colab": {
          "base_uri": "https://localhost:8080/",
          "height": 688
        },
        "id": "JfOKniZpRRlp",
        "outputId": "10622116-93e6-43b7-93cd-83153622eb46"
      },
      "execution_count": null,
      "outputs": [
        {
          "output_type": "display_data",
          "data": {
            "text/plain": [
              "<Figure size 2000x1000 with 1 Axes>"
            ],
            "image/png": "[encoded data removed]"
          },
          "metadata": {}
        }
      ]
    },
    {
      "cell_type": "markdown",
      "source": [
        "## Muller Loop for soybean production"
      ],
      "metadata": {
        "id": "Ty7HrTEuPuxG"
      }
    },
    {
      "cell_type": "code",
      "source": [
        "names,score_all=muller_loop(soybean,\"soybean\")"
      ],
      "metadata": {
        "colab": {
          "base_uri": "https://localhost:8080/"
        },
        "id": "86waznhrRWw6",
        "outputId": "6b80f34d-4b04-40cb-c101-fbe6392d0fd6"
      },
      "execution_count": null,
      "outputs": [
        {
          "output_type": "stream",
          "name": "stdout",
          "text": [
            "Classifier = Multiple Linear Regression, Score (test, accuracy) = 29.32, Training time = 0.02 seconds\n",
            "Classifier = Lasso Regression, Score (test, accuracy) = 29.32, Training time = 0.03 seconds\n",
            "Classifier = Decision Tree Regressor, Score (test, accuracy) = 94.34, Training time = 0.06 seconds\n",
            "Classifier = Random Forest Regressor, Score (test, accuracy) = 96.92, Training time = 2.10 seconds\n",
            "--------------------------------------------------------------------------------\n",
            "Best --> Classifier = Random Forest Regressor, Score (test, accuracy) = 96.92\n"
          ]
        }
      ]
    },
    {
      "cell_type": "code",
      "source": [
        "plot_comparision(names,score_all)"
      ],
      "metadata": {
        "colab": {
          "base_uri": "https://localhost:8080/",
          "height": 684
        },
        "id": "7F3pjLlyRW0F",
        "outputId": "b9c6274a-925d-4229-9f7a-32cb7f7219c4"
      },
      "execution_count": null,
      "outputs": [
        {
          "output_type": "display_data",
          "data": {
            "text/plain": [
              "<Figure size 2000x1000 with 1 Axes>"
            ],
            "image/png": "[encoded data removed]"
          },
          "metadata": {}
        }
      ]
    },
    {
      "cell_type": "markdown",
      "source": [
        "## Muller Loop for maize production"
      ],
      "metadata": {
        "id": "23L_YrKYPu1v"
      }
    },
    {
      "cell_type": "code",
      "source": [
        "names,score_all=muller_loop(maize,\"maize\")"
      ],
      "metadata": {
        "colab": {
          "base_uri": "https://localhost:8080/"
        },
        "id": "nq5CAE3sRXYx",
        "outputId": "1ce7b7b0-6b98-4140-c581-cf9ce46b8429"
      },
      "execution_count": null,
      "outputs": [
        {
          "output_type": "stream",
          "name": "stdout",
          "text": [
            "Classifier = Multiple Linear Regression, Score (test, accuracy) = 81.86, Training time = 0.04 seconds\n",
            "Classifier = Lasso Regression, Score (test, accuracy) = 81.86, Training time = 0.08 seconds\n",
            "Classifier = Decision Tree Regressor, Score (test, accuracy) = 85.19, Training time = 0.14 seconds\n",
            "Classifier = Random Forest Regressor, Score (test, accuracy) = 90.57, Training time = 4.88 seconds\n",
            "--------------------------------------------------------------------------------\n",
            "Best --> Classifier = Random Forest Regressor, Score (test, accuracy) = 90.57\n"
          ]
        }
      ]
    },
    {
      "cell_type": "code",
      "source": [
        "plot_comparision(names,score_all)"
      ],
      "metadata": {
        "colab": {
          "base_uri": "https://localhost:8080/",
          "height": 688
        },
        "id": "iiKDb_TVRXbZ",
        "outputId": "53720c67-0bba-434f-8810-20a33450ac68"
      },
      "execution_count": null,
      "outputs": [
        {
          "output_type": "display_data",
          "data": {
            "text/plain": [
              "<Figure size 2000x1000 with 1 Axes>"
            ],
            "image/png": "[encoded data removed]"
          },
          "metadata": {}
        }
      ]
    },
    {
      "cell_type": "markdown",
      "source": [
        "# Conclusion\n",
        "\n",
        "Random Forest is providing the best results with around 95% for the crop production taken under consideration."
      ],
      "metadata": {
        "id": "GiHJHiCMTM6k"
      }
    },
    {
      "cell_type": "code",
      "source": [],
      "metadata": {
        "id": "2C6BCjGFTLt_"
      },
      "execution_count": null,
      "outputs": []
    }
  ]
}